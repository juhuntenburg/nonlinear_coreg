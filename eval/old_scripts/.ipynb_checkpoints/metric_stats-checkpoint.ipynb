{
 "metadata": {
  "name": ""
 },
 "nbformat": 3,
 "nbformat_minor": 0,
 "worksheets": [
  {
   "cells": [
    {
     "cell_type": "heading",
     "level": 2,
     "metadata": {},
     "source": [
      "Comparing similarity metrics"
     ]
    },
    {
     "cell_type": "markdown",
     "metadata": {},
     "source": [
      "importing libraries"
     ]
    },
    {
     "cell_type": "code",
     "collapsed": false,
     "input": [
      "import numpy as np\n",
      "import seaborn as sns\n",
      "from scipy import stats as stats"
     ],
     "language": "python",
     "metadata": {},
     "outputs": [],
     "prompt_number": 38
    },
    {
     "cell_type": "markdown",
     "metadata": {},
     "source": [
      "setting variables"
     ]
    },
    {
     "cell_type": "code",
     "collapsed": false,
     "input": [
      "subjects=[]\n",
      "f = open('/scr/jessica2/Schaare/LEMON/done_freesurfer.txt','r')\n",
      "for line in f:\n",
      "    subjects.append(line.strip())\n",
      "subjects.remove('LEMON027')\n",
      "subjects.remove('LEMON007')\n",
      "subjects.remove('LEMON054')"
     ],
     "language": "python",
     "metadata": {},
     "outputs": [],
     "prompt_number": 32
    },
    {
     "cell_type": "code",
     "collapsed": false,
     "input": [
      "metrics = ['mi','nmi','cc','cr','crl1']\n",
      "methods = ['linear', 'nonlinear', 'fmap', 'topup']"
     ],
     "language": "python",
     "metadata": {},
     "outputs": [],
     "prompt_number": 33
    },
    {
     "cell_type": "code",
     "collapsed": false,
     "input": [
      "metric_path='/scr/jessica2/Schaare/LEMON/preprocessed/%s/similarity/mni_metrics.txt'\n",
      "save_path='/scr/kansas1/huntenburg/eval_lemon/group/similarity/mni_brain/'"
     ],
     "language": "python",
     "metadata": {},
     "outputs": [],
     "prompt_number": 34
    },
    {
     "cell_type": "markdown",
     "metadata": {},
     "source": [
      "reading metrics into arrays"
     ]
    },
    {
     "cell_type": "code",
     "collapsed": false,
     "input": [
      "for metric in metrics:\n",
      "    if metric=='mi': \n",
      "        metric_no=0\n",
      "    if metric=='nmi': \n",
      "        metric_no=1\n",
      "    if metric=='cc': \n",
      "        metric_no=2\n",
      "    if metric=='cr': \n",
      "        metric_no=3\n",
      "    if metric=='crl1': \n",
      "        metric_no=4\n",
      "    \n",
      "    for method in methods:\n",
      "        if method=='linear':\n",
      "            method_no=0\n",
      "        if method=='nonlinear':\n",
      "            method_no=1\n",
      "        if method=='fmap':\n",
      "            method_no=2\n",
      "        if method=='topup':\n",
      "            method_no=3\n",
      "            \n",
      "        # initiate empty arrays and min/max values\n",
      "        abs_array=np.array([])\n",
      "        diff_array=np.array([])\n",
      "        abs_min=[1, 'none']\n",
      "        abs_max=[0,'none']\n",
      "        diff_min=[1, 'none']\n",
      "        diff_max=[-1,'none']\n",
      "        \n",
      "        # loop over subjects, read in metrics file\n",
      "        for subject in range(len(subjects)):\n",
      "            path = metric_path %(subjects[subject])\n",
      "            metrics_array=np.loadtxt(path, dtype='float', delimiter=' ')\n",
      "            \n",
      "            # define abs and diff values\n",
      "            abs_val=metrics_array[metric_no, method_no]\n",
      "            diff_val=metrics_array[metric_no,method_no]-metrics_array[metric_no, 0]\n",
      "            \n",
      "            # compare to min/max values and update if applicable\n",
      "            if abs_val < abs_min[0]:\n",
      "                abs_min=[abs_val,subjects[subject]]\n",
      "            if abs_val > abs_max[0]:\n",
      "                abs_max=[abs_val, subjects[subject]]\n",
      "                \n",
      "            if diff_val < diff_min[0]:\n",
      "                diff_min=[diff_val, subjects[subject]]\n",
      "            if diff_val > diff_max[0]:\n",
      "                diff_max=[diff_val, subjects[subject]]\n",
      "                \n",
      "            # append values to arrays\n",
      "            abs_array = np.append(abs_array,abs_val)\n",
      "            diff_array = np.append(diff_array, diff_val)\n",
      "            \n",
      "        # save array of all subjects to file\n",
      "        np.save(save_path+method+'_'+metric+'_abs.npy', abs_array)\n",
      "        np.save(save_path+method+'_'+metric+'_diff.npy', diff_array)\n",
      "        \n",
      "        # one sample t test if improvement differs from zero\n",
      "        [ttest_t, ttest_p]=stats.ttest_1samp(diff_array, 0)\n",
      "        \n",
      "        # save min/max values and ttest to text\n",
      "        stats_array=np.array([['ttest improvement to linear[t,p] ',str([ttest_t, ttest_p])]])\n",
      "        stats_array=np.append(stats_array, [['least improved to linear[val,subj] ',str(diff_min)]], axis=0)\n",
      "        stats_array=np.append(stats_array, [['most improved to linear[val,subj] ',str(diff_max)]], axis=0)\n",
      "        stats_array=np.append(stats_array, [['min similarity[val,subj] ',str(abs_min)]], axis=0)\n",
      "        stats_array=np.append(stats_array, [['max similarity[val,subj] ',str(abs_max)]], axis=0)\n",
      "\n",
      "        np.savetxt(save_path+method+'_'+metric+'_stats.txt', stats_array, delimiter=' ', fmt='%s')\n",
      "        \n",
      "        # print stats for quick check\n",
      "        #print method+' minimum '+metric+' similarity = '+str(abs_min)\n",
      "        #print method+' maximum '+metric+' similarity = '+str(abs_max)\n",
      "        #print method+' least '+metric+' improvement to linear = '+str(diff_min)\n",
      "        #print method+' highest '+metric+' improvement to linear = '+str(diff_max)\n",
      "        #print method+' '+metric+' improvement diff from zero [t,p] = '+str(ttest)"
     ],
     "language": "python",
     "metadata": {},
     "outputs": [],
     "prompt_number": 96
    },
    {
     "cell_type": "code",
     "collapsed": false,
     "input": [],
     "language": "python",
     "metadata": {},
     "outputs": []
    }
   ],
   "metadata": {}
  }
 ]
}