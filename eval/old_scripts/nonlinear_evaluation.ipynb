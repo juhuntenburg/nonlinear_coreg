{
 "metadata": {
  "name": ""
 },
 "nbformat": 3,
 "nbformat_minor": 0,
 "worksheets": [
  {
   "cells": [
    {
     "cell_type": "markdown",
     "metadata": {},
     "source": [
      "calculate masks before and after nonlinear, resample and intersect"
     ]
    },
    {
     "cell_type": "code",
     "collapsed": false,
     "input": [
      "from nipype.interfaces.afni import Automask\n",
      "lin_automask = Node(interface=Automask(outputtype='NIFTI_GZ',\n",
      "                                       clfrac = 0.6), \n",
      "                    name='automask_after_lin_trans')\n",
      "\n",
      "nonreg.connect(lin_epi, 'output_image', lin_automask, 'in_file')\n",
      "nonreg.connect(lin_automask, 'out_file', sink, 'eval.automask.lin.@automask')\n",
      "\n",
      "nonlin_automask = Node(interface=Automask(outputtype='NIFTI_GZ',\n",
      "                                          clfrac = 0.6), \n",
      "                    name='automask_after_nonlin_trans')\n",
      "\n",
      "nonreg.connect(nonlin_orig, 'output_image', nonlin_automask, 'in_file')\n",
      "nonreg.connect(nonlin_automask, 'out_file', sink, 'eval.automask.nonlin.@automask')\n",
      "\n",
      "\n",
      "\n",
      "resamp_lin_mask = Node(interface=Resample(outputtype='NIFTI_GZ',\n",
      "                                 voxel_size = (3,3,3)),\n",
      "              name = 'resample_lin_automask')\n",
      "\n",
      "nonreg.connect(lin_automask, 'out_file', resamp_lin_mask, 'in_file')\n",
      "nonreg.connect(resamp_lin_mask,'out_file', sink, 'eval.automask.lin.@resamp')\n",
      "\n",
      "resamp_nonlin_mask = Node(interface=Resample(outputtype='NIFTI_GZ',\n",
      "                                 voxel_size = (3,3,3)),\n",
      "              name = 'resample_nonlin_automask')\n",
      "\n",
      "nonreg.connect(nonlin_automask, 'out_file', resamp_nonlin_mask, 'in_file')\n",
      "nonreg.connect(resamp_nonlin_mask,'out_file', sink, 'eval.automask.nonlin.@resamp')\n",
      "\n",
      "automask_intersect = Node(interface=BinaryMaths(operation='add'), name='automask_intersect')\n",
      "\n",
      "nonreg.connect(resamp_lin_mask,'out_file', automask_intersect, 'in_file')\n",
      "nonreg.connect(resamp_nonlin_mask,'out_file', automask_intersect, 'operand_file')\n",
      "nonreg.connect(automask_intersect, 'out_file', sink, 'eval.automask.intersect.@intersect')"
     ],
     "language": "python",
     "metadata": {},
     "outputs": []
    },
    {
     "cell_type": "markdown",
     "metadata": {},
     "source": [
      "measure mask extens"
     ]
    },
    {
     "cell_type": "code",
     "collapsed": false,
     "input": [
      "lin_calc_ext = Node(interface=ImageStats(op_string='-V',\n",
      "                                    output_type='NIFTI_GZ'),\n",
      "              name='calculate_mask_extents_lin')\n",
      "\n",
      "nonreg.connect(lin_automask, 'out_file', lin_calc_ext, 'in_file')\n",
      "\n",
      "nonlin_calc_ext = Node(interface=ImageStats(op_string='-V',\n",
      "                                    output_type='NIFTI_GZ'),\n",
      "              name='calculate_mask_extents_nonlin')\n",
      "\n",
      "nonreg.connect(nonlin_automask, 'out_file', nonlin_calc_ext, 'in_file')"
     ],
     "language": "python",
     "metadata": {},
     "outputs": []
    },
    {
     "cell_type": "markdown",
     "metadata": {},
     "source": [
      "calculate image similarities"
     ]
    },
    {
     "cell_type": "code",
     "collapsed": false,
     "input": [
      "from nipype.interfaces.nipy.utils import Similarity\n",
      "lin_sim = MapNode(interface = Similarity(),\n",
      "                  name = 'similarity_lin_trans',\n",
      "                  iterfield=['metric'])\n",
      "lin_sim.inputs.metric = ['mi','nmi','cc','cr','crl1']\n",
      "\n",
      "nonreg.connect(mriconvert, 'out_file', lin_sim, 'volume1')\n",
      "nonreg.connect(lin_epi, 'output_image',lin_sim, 'volume2')\n",
      "nonreg.connect(intersect, 'out_file', lin_sim, 'mask1')\n",
      "\n",
      "\n",
      "nonlin_sim = MapNode(interface = Similarity(),\n",
      "                  name = 'similarity_nonlin_trans',\n",
      "                  iterfield=['metric'])\n",
      "nonlin_sim.inputs.metric = ['mi','nmi','cc','cr','crl1']\n",
      "\n",
      "nonreg.connect(mriconvert, 'out_file', nonlin_sim, 'volume1')\n",
      "nonreg.connect(nonlin_orig, 'output_image',nonlin_sim, 'volume2')\n",
      "nonreg.connect(intersect, 'out_file', nonlin_sim, 'mask1')"
     ],
     "language": "python",
     "metadata": {},
     "outputs": []
    },
    {
     "cell_type": "markdown",
     "metadata": {},
     "source": [
      "write values to file"
     ]
    },
    {
     "cell_type": "code",
     "collapsed": false,
     "input": [
      "def write_text(lin_mask_ext, nonlin_mask_ext, lin_metrics, nonlin_metrics):\n",
      "    import numpy as np\n",
      "    import os\n",
      "    #mask = np.array([lin_mask_ext[0], nonlin_mask_ext[0]])\n",
      "    lin_metrics_array = np.array(lin_metrics)\n",
      "    lin_mask_array = np.array(lin_mask_ext[0])\n",
      "    lin_array = np.append(lin_metrics_array,lin_mask_array)\n",
      "    lin_array=lin_array.reshape(np.size(lin_array),1)\n",
      "    \n",
      "    nl_metrics_array = np.array(nonlin_metrics)\n",
      "    nl_mask_array = np.array(nonlin_mask_ext[0])\n",
      "    nl_array = np.append(nl_metrics_array,nl_mask_array)\n",
      "    nl_array=nl_array.reshape(np.size(nl_array),1)\n",
      "    \n",
      "    metrics=np.concatenate((lin_array,nl_array),axis=1)\n",
      "    #mask_file = 'mask_extents.txt'\n",
      "    metrics_file = 'metrics.txt'\n",
      "    #np.savetxt(mask_file, mask, delimiter=' ', fmt='%f')\n",
      "    np.savetxt(metrics_file, metrics, delimiter=' ', fmt='%f')\n",
      "    return os.path.abspath('metrics.txt') #os.path.abspath('mask_extents.txt'), os.path.abspath('sim_metrics.txt')\n",
      "    \n",
      "\n",
      "write_txt = Node(interface=Function(input_names=['lin_mask_ext', 'nonlin_mask_ext','lin_metrics', 'nonlin_metrics'],\n",
      "                                  output_names=['txtfile'],\n",
      "                                  function=write_text),\n",
      "              name='write_file')\n",
      "\n",
      "nonreg.connect(lin_sim, 'similarity', write_txt, 'lin_metrics')\n",
      "nonreg.connect(nonlin_sim, 'similarity', write_txt, 'nonlin_metrics')\n",
      "nonreg.connect(lin_calc_ext, 'out_stat', write_txt, 'lin_mask_ext')\n",
      "nonreg.connect(nonlin_calc_ext, 'out_stat', write_txt, 'nonlin_mask_ext')\n",
      "nonreg.connect(write_txt, 'txtfile', sink, 'eval.txt.@txtfile')"
     ],
     "language": "python",
     "metadata": {},
     "outputs": []
    },
    {
     "cell_type": "markdown",
     "metadata": {},
     "source": [
      "create tsnr maps and calculate differences"
     ]
    },
    {
     "cell_type": "code",
     "collapsed": false,
     "input": [
      "#from nipype.algorithms.misc import TSNR\n",
      "#lin_tsnr = Node(interface=TSNR(), name='lin_tsnr')\n",
      "\n",
      "#nonreg.connect(resamp_lin, 'out_file',lin_tsnr,'in_file')\n",
      "#nonreg.connect(lin_tsnr, 'tsnr_file', sink, 'eval.tsnr.lin.@tsnr')\n",
      "\n",
      "#nonlin_tsnr = Node(interface=TSNR(), name='nonlin_tsnr')\n",
      "\n",
      "#nonreg.connect(resamp_nonlin, 'out_file',nonlin_tsnr,'in_file')\n",
      "#nonreg.connect(nonlin_tsnr, 'tsnr_file', sink, 'eval.tsnr.nonlin.@tsnr')\n",
      "\n",
      "#sub_tsnr = Node(interface=BinaryMaths(operation='sub'), name='substract_snrs')\n",
      "\n",
      "#nonreg.connect(nonlin_tsnr, 'tsnr_file', sub_tsnr, 'in_file')\n",
      "#nonreg.connect(lin_tsnr, 'tsnr_file', sub_tsnr, 'operand_file')\n",
      "#nonreg.connect(sub_tsnr, 'out_file', sink, 'eval.tsnr.diff.@diff')\n",
      "\n",
      "#nonreg.connect(lin_tsnr, 'detrended_file', sink, 'eval.tsnr_lin.@detrended')\n",
      "#nonreg.connect(lin_tsnr, 'mean_file', sink, 'eval.tsnr_lin.@mean')\n",
      "#nonreg.connect(lin_tsnr, 'stddev_file', sink, 'eval.tsnr_lin.@stddev'"
     ],
     "language": "python",
     "metadata": {},
     "outputs": []
    }
   ],
   "metadata": {}
  }
 ]
}