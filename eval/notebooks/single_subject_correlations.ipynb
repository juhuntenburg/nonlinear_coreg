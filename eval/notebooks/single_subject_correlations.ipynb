{
 "metadata": {
  "name": "",
  "signature": "sha256:f4cc5a67e2487cc71fe2975ff848917b5e6fbff49383bc58fed902510e54f01b"
 },
 "nbformat": 3,
 "nbformat_minor": 0,
 "worksheets": [
  {
   "cells": [
    {
     "cell_type": "heading",
     "level": 2,
     "metadata": {},
     "source": [
      "voxelwise correlation of means / fields in one subject"
     ]
    },
    {
     "cell_type": "code",
     "collapsed": false,
     "input": [
      "import nibabel as nb\n",
      "import scipy as sp\n",
      "import seaborn as sns\n",
      "import pandas as pd\n",
      "import matplotlib.pyplot as plt\n",
      "import os"
     ],
     "language": "python",
     "metadata": {},
     "outputs": [],
     "prompt_number": 1
    },
    {
     "cell_type": "heading",
     "level": 1,
     "metadata": {},
     "source": [
      "CHECK BEFORE RUNNING"
     ]
    },
    {
     "cell_type": "code",
     "collapsed": false,
     "input": [
      "version='version_5'\n",
      "subject='LEMON001'\n",
      "#contrast='fmap_nonlin_field_corr'\n",
      "#contrast='fmap_nonlin_mean_indv_corr'\n",
      "contrast='fmap_nonlin_mean_mni_corr'\n",
      "#contrast='fmap_nonlin_mean_mni_ofc_corr'\n",
      "#contrast='group_fmap_nonlin_mean_corr'"
     ],
     "language": "python",
     "metadata": {},
     "outputs": [],
     "prompt_number": 2
    },
    {
     "cell_type": "code",
     "collapsed": false,
     "input": [
      "save_path='/scr/kansas1/huntenburg/eval/'+version+'/figures/single/'\n",
      "\n",
      "if not os.path.isdir('/scr/kansas1/huntenburg/eval/'+version+'/figures/'):\n",
      "    os.mkdir('/scr/kansas1/huntenburg/eval/'+version+'/figures/')\n",
      "\n",
      "if not os.path.isdir('/scr/kansas1/huntenburg/eval/'+version+'/figures/single/'):\n",
      "    os.mkdir('/scr/kansas1/huntenburg/eval/'+version+'/figures/single/')"
     ],
     "language": "python",
     "metadata": {},
     "outputs": [],
     "prompt_number": 3
    },
    {
     "cell_type": "code",
     "collapsed": false,
     "input": [
      "if contrast == 'fmap_nonlin_mean_indv_corr':\n",
      "    image1_label='fmap mean indv'\n",
      "    image2_label= 'nonlin mean indv'\n",
      "    \n",
      "    image1='/scr/jessica2/Schaare/LEMON/preprocessed/%s/fieldmap_coreg/fmap_mean_coreg.nii.gz' %(subject)\n",
      "    image2='/scr/jessica2/Schaare/LEMON/preprocessed/%s/nonlin_coreg_'+version+'/nonlin_mean_coreg.nii.gz' %(subject)\n",
      "    mask='/scr/jessica2/Schaare/LEMON/preprocessed/%s/freesurfer_anatomy/brain_out_mask.nii.gz' %(subject)\n",
      "\n",
      "    \n",
      "elif contrast == 'fmap_nonlin_mean_mni_corr':\n",
      "    image1_label='fmap mean mni'\n",
      "    image2_label= 'nonlin mean mni'\n",
      "\n",
      "    image1='/scr/jessica2/Schaare/LEMON/preprocessed/%s/fieldmap_coreg/fmap_mean_norm.nii.gz' %(subject)\n",
      "    image2='/scr/jessica2/Schaare/LEMON/preprocessed/%s/nonlin_coreg_version_5/nonlin_mean_norm.nii.gz' %(subject)\n",
      "    mask='/scr/kansas1/huntenburg/eval/mni/MNI152_T1_1mm_brain_mask.nii.gz'\n",
      "    \n",
      "    \n",
      "elif contrast == 'fmap_nonlin_mean_mni_ofc_corr':\n",
      "    image1_label='fmap mean mni ofc'\n",
      "    image2_label= 'nonlin mean mni ofc'\n",
      "\n",
      "    image1='/scr/jessica2/Schaare/LEMON/preprocessed/%s/fieldmap_coreg/fmap_mean_norm.nii.gz' %(subject)\n",
      "    image2='/scr/jessica2/Schaare/LEMON/preprocessed/%s/nonlin_coreg_'+version+'/nonlin_mean_norm.nii.gz' %(subject)\n",
      "    mask='/scr/kansas1/huntenburg/eval/mni/Harvard_Oxford_frontal_orbital_thr_25.nii.gz'\n",
      "\n",
      "    \n",
      "elif contrast == 'fmap_nonlin_field_corr':\n",
      "    image1_label='fmap field'\n",
      "    image2_label= 'nonlin field'\n",
      "\n",
      "    image1='/scr/kansas1/huntenburg/eval/'+version+'/%s/fieldcompare/fields/fmap_field.nii.gz' %(subject)\n",
      "    image2='/scr/kansas1/huntenburg/eval/'+version+'/%s/fieldcompare/fields/nonlin_field.nii.gz' %(subject)\n",
      "    mask='/scr/kansas1/huntenburg/eval/'+version+'/%s/fieldcompare/fields/fieldmask.nii.gz' %(subject)\n",
      "    \n",
      "elif contrast == 'group_fmap_nonlin_mean_corr':\n",
      "    image1_label='fmap groupmean'\n",
      "    image2_label= 'nonlin groupmean'\n",
      "\n",
      "    image1='/scr/kansas1/huntenburg/eval/'+version+'/group/groupmeans/fmap_groupmean.nii.gz'\n",
      "    image2='/scr/kansas1/huntenburg/eval/'+version+'/group/groupmeans/nonlin_groupmean.nii.gz'\n",
      "    mask='/scr/kansas1/huntenburg/eval/mni/MNI152_T1_1mm_brain_mask.nii.gz'\n",
      "    save_path='/scr/kansas1/huntenburg/eval/'+version+'/figures/group/'"
     ],
     "language": "python",
     "metadata": {},
     "outputs": [],
     "prompt_number": 4
    },
    {
     "cell_type": "markdown",
     "metadata": {},
     "source": [
      "load data"
     ]
    },
    {
     "cell_type": "code",
     "collapsed": false,
     "input": [
      "img1=nb.load(image1).get_data()\n",
      "img2=nb.load(image2).get_data()\n",
      "mask=nb.load(mask).get_data()"
     ],
     "language": "python",
     "metadata": {},
     "outputs": [],
     "prompt_number": 5
    },
    {
     "cell_type": "code",
     "collapsed": false,
     "input": [
      "print shape(img1)\n",
      "print shape(img2)\n",
      "print shape(mask)"
     ],
     "language": "python",
     "metadata": {},
     "outputs": [
      {
       "output_type": "stream",
       "stream": "stdout",
       "text": [
        "(182, 218, 182)\n",
        "(182, 218, 182)\n",
        "(182, 218, 182)\n"
       ]
      }
     ],
     "prompt_number": 6
    },
    {
     "cell_type": "code",
     "collapsed": false,
     "input": [
      "img1_masked=img1[mask>0]\n",
      "img2_masked=img2[mask>0]"
     ],
     "language": "python",
     "metadata": {},
     "outputs": [],
     "prompt_number": 7
    },
    {
     "cell_type": "code",
     "collapsed": false,
     "input": [
      "print shape(img1.flatten())\n",
      "print shape(img2.flatten())\n",
      "print shape(img1_masked)\n",
      "print shape(img2_masked)"
     ],
     "language": "python",
     "metadata": {},
     "outputs": [
      {
       "output_type": "stream",
       "stream": "stdout",
       "text": [
        "(7221032,)\n",
        "(7221032,)"
       ]
      },
      {
       "output_type": "stream",
       "stream": "stdout",
       "text": [
        "\n",
        "(1837809,)\n",
        "(1837809,)\n"
       ]
      }
     ],
     "prompt_number": 8
    },
    {
     "cell_type": "markdown",
     "metadata": {},
     "source": [
      "plot regression"
     ]
    },
    {
     "cell_type": "code",
     "collapsed": false,
     "input": [
      "#sns.set_context(context='talk')\n",
      "fig = plt.figure()\n",
      "\n",
      "sns.jointplot(img1_masked, img2_masked, kind='kde', color=(0.46810256823426105, 0.6699492535792404, 0.1928958739904499),#'#070B19',\n",
      "              xlim=(200,1000),ylim=(200,1000),\n",
      "              stat_func=sp.stats.spearmanr)\n",
      "sns.axlabel(image1_label,image2_label)\n",
      "\n",
      "if contrast=='group_fmap_nonlin_mean_corr':\n",
      "    plt.savefig(save_path+contrast+'_kde.svg')\n",
      "\n",
      "else:\n",
      "    plt.savefig(save_path+subject+'_'+contrast+'_kde.svg')"
     ],
     "language": "python",
     "metadata": {},
     "outputs": [
      {
       "metadata": {},
       "output_type": "display_data",
       "text": [
        "<matplotlib.figure.Figure at 0x5e24590>"
       ]
      },
      {
       "metadata": {},
       "output_type": "display_data",
       "png": "[encoded data removed]",
       "text": [
        "<matplotlib.figure.Figure at 0x5e24b10>"
       ]
      }
     ],
     "prompt_number": 9
    },
    {
     "cell_type": "code",
     "collapsed": false,
     "input": [
      "sns.set_context(context='talk')\n",
      "fig = plt.figure()\n",
      "sns.jointplot(img1_masked, img2_masked, kind='reg', color='mediumseagreen', \n",
      "              stat_func=sp.stats.spearmanr)\n",
      "sns.axlabel(image1_label,image2_label)\n",
      "\n",
      "if contrast=='group_fmap_nonlin_mean_corr':\n",
      "    #plt.savefig(save_path+contrast+'_reg.svg')\n",
      "    #plt.savefig(save_path+contrast+'_reg.jpg')\n",
      "\n",
      "else:\n",
      "\n",
      "    #plt.savefig(save_path+subject+'_'+contrast+'_reg.svg')\n",
      "    #plt.savefig(save_path+subject+'_'+contrast+'_reg.jpg')"
     ],
     "language": "python",
     "metadata": {},
     "outputs": [
      {
       "ename": "SyntaxError",
       "evalue": "invalid syntax (<ipython-input-15-6a481fcfe775>, line 3)",
       "output_type": "pyerr",
       "traceback": [
        "\u001b[0;36m  File \u001b[0;32m\"<ipython-input-15-6a481fcfe775>\"\u001b[0;36m, line \u001b[0;32m3\u001b[0m\n\u001b[0;31m    sns.jointplot(img1_masked, img2_masked, kind='reg', stat_func= <function spearmanr at 0x105140c80>,color='mediumseagreen')\u001b[0m\n\u001b[0m                                                                   ^\u001b[0m\n\u001b[0;31mSyntaxError\u001b[0m\u001b[0;31m:\u001b[0m invalid syntax\n"
       ]
      }
     ],
     "prompt_number": 15
    }
   ],
   "metadata": {}
  }
 ]
}