{
 "metadata": {
  "name": "",
  "signature": "sha256:8c822bd3e786e3008b2ac908fad855a9e69dfc6bdd3d0825b6ce3ed9923219d3"
 },
 "nbformat": 3,
 "nbformat_minor": 0,
 "worksheets": [
  {
   "cells": [
    {
     "cell_type": "heading",
     "level": 2,
     "metadata": {},
     "source": [
      "Similarity metrics across subjects"
     ]
    },
    {
     "cell_type": "code",
     "collapsed": false,
     "input": [
      "import numpy as np\n",
      "import seaborn as sns\n",
      "import matplotlib.pyplot as plt\n",
      "import scipy as sp\n",
      "import os"
     ],
     "language": "python",
     "metadata": {},
     "outputs": [],
     "prompt_number": 1
    },
    {
     "cell_type": "heading",
     "level": 1,
     "metadata": {},
     "source": [
      "CHECK BEFRORE RUNNING"
     ]
    },
    {
     "cell_type": "code",
     "collapsed": false,
     "input": [
      "version='version_8'\n",
      "all_versions=['8','5','11']"
     ],
     "language": "python",
     "metadata": {},
     "outputs": [],
     "prompt_number": 2
    },
    {
     "cell_type": "code",
     "collapsed": false,
     "input": [
      "subjects=[]\n",
      "f = open('/scr/jessica2/Schaare/LEMON/done_freesurfer.txt','r')\n",
      "for line in f:\n",
      "    subjects.append(line.strip())"
     ],
     "language": "python",
     "metadata": {},
     "outputs": [],
     "prompt_number": 3
    },
    {
     "cell_type": "code",
     "collapsed": false,
     "input": [
      "len(subjects)"
     ],
     "language": "python",
     "metadata": {},
     "outputs": [
      {
       "metadata": {},
       "output_type": "pyout",
       "prompt_number": 4,
       "text": [
        "73"
       ]
      }
     ],
     "prompt_number": 4
    },
    {
     "cell_type": "code",
     "collapsed": false,
     "input": [
      "spaces=['mni','mni_ofc']\n",
      "metrics = ['mi','nmi','cc','cr','crl1']\n",
      "methods = ['linear', 'nonlinear', 'fmap', 'topup']"
     ],
     "language": "python",
     "metadata": {},
     "outputs": [],
     "prompt_number": 5
    },
    {
     "cell_type": "code",
     "collapsed": false,
     "input": [
      "save_path='/scr/kansas1/huntenburg/eval/'+version+'/figures/group/' \n",
      "if not os.path.isdir('/scr/kansas1/huntenburg/eval/'+version+'/figures/'):\n",
      "    os.mkdir('/scr/kansas1/huntenburg/eval/'+version+'/figures/')"
     ],
     "language": "python",
     "metadata": {},
     "outputs": [
      {
       "ename": "OSError",
       "evalue": "[Errno 2] No such file or directory: '/scr/kansas1/huntenburg/eval/version_8/figures/'",
       "output_type": "pyerr",
       "traceback": [
        "\u001b[0;31m---------------------------------------------------------------------------\u001b[0m\n\u001b[0;31mOSError\u001b[0m                                   Traceback (most recent call last)",
        "\u001b[0;32m<ipython-input-6-60815fda7752>\u001b[0m in \u001b[0;36m<module>\u001b[0;34m()\u001b[0m\n\u001b[1;32m      1\u001b[0m \u001b[0msave_path\u001b[0m\u001b[0;34m=\u001b[0m\u001b[0;34m'/scr/kansas1/huntenburg/eval/'\u001b[0m\u001b[0;34m+\u001b[0m\u001b[0mversion\u001b[0m\u001b[0;34m+\u001b[0m\u001b[0;34m'/figures/group/'\u001b[0m\u001b[0;34m\u001b[0m\u001b[0m\n\u001b[1;32m      2\u001b[0m \u001b[0;32mif\u001b[0m \u001b[0;32mnot\u001b[0m \u001b[0mos\u001b[0m\u001b[0;34m.\u001b[0m\u001b[0mpath\u001b[0m\u001b[0;34m.\u001b[0m\u001b[0misdir\u001b[0m\u001b[0;34m(\u001b[0m\u001b[0;34m'/scr/kansas1/huntenburg/eval/'\u001b[0m\u001b[0;34m+\u001b[0m\u001b[0mversion\u001b[0m\u001b[0;34m+\u001b[0m\u001b[0;34m'/figures/'\u001b[0m\u001b[0;34m)\u001b[0m\u001b[0;34m:\u001b[0m\u001b[0;34m\u001b[0m\u001b[0m\n\u001b[0;32m----> 3\u001b[0;31m     \u001b[0mos\u001b[0m\u001b[0;34m.\u001b[0m\u001b[0mmkdir\u001b[0m\u001b[0;34m(\u001b[0m\u001b[0;34m'/scr/kansas1/huntenburg/eval/'\u001b[0m\u001b[0;34m+\u001b[0m\u001b[0mversion\u001b[0m\u001b[0;34m+\u001b[0m\u001b[0;34m'/figures/'\u001b[0m\u001b[0;34m)\u001b[0m\u001b[0;34m\u001b[0m\u001b[0m\n\u001b[0m",
        "\u001b[0;31mOSError\u001b[0m: [Errno 2] No such file or directory: '/scr/kansas1/huntenburg/eval/version_8/figures/'"
       ]
      }
     ],
     "prompt_number": 6
    },
    {
     "cell_type": "heading",
     "level": 3,
     "metadata": {},
     "source": [
      "Reading values into arrays"
     ]
    },
    {
     "cell_type": "code",
     "collapsed": false,
     "input": [
      "for space in spaces:\n",
      "    if space=='mni':\n",
      "        metric_path='/scr/kansas1/huntenburg/eval/'+version+'/%s/similarity/metrics_mni_brain.txt' \n",
      "    elif space=='mni_ofc':\n",
      "        metric_path='/scr/kansas1/huntenburg/eval/'+version+'/%s/similarity/metrics_mni_ofc.txt'\n",
      "\n",
      "\n",
      "    for metric in metrics:\n",
      "        if metric=='mi': \n",
      "            metric_no=0\n",
      "        if metric=='nmi': \n",
      "            metric_no=1\n",
      "        if metric=='cc': \n",
      "            metric_no=2\n",
      "        if metric=='cr': \n",
      "            metric_no=3\n",
      "        if metric=='crl1': \n",
      "            metric_no=4\n",
      "\n",
      "        for method in methods:\n",
      "            if method=='linear':\n",
      "                method_no=0\n",
      "            if method=='nonlinear':\n",
      "                method_no=1\n",
      "            if method=='fmap':\n",
      "                method_no=2\n",
      "            if method=='topup':\n",
      "                method_no=3\n",
      "\n",
      "            # initiate empty arrays and min/max values\n",
      "            abs_array=np.array([])\n",
      "            diff_array=np.array([])\n",
      "            abs_min=[1, 'none']\n",
      "            abs_max=[0,'none']\n",
      "            diff_min=[1, 'none']\n",
      "            diff_max=[-1,'none']\n",
      "\n",
      "            # loop over subjects, read in metrics file\n",
      "            for subject in range(len(subjects)):\n",
      "                path = metric_path %(subjects[subject])\n",
      "                metrics_array=np.loadtxt(path, dtype='float', delimiter=' ')\n",
      "\n",
      "                # define abs and diff values\n",
      "                abs_val=metrics_array[metric_no, method_no]\n",
      "                diff_val=metrics_array[metric_no,method_no]-metrics_array[metric_no, 0]\n",
      "\n",
      "                # compare to min/max values and update if applicable\n",
      "                if abs_val < abs_min[0]:\n",
      "                    abs_min=[abs_val,subjects[subject]]\n",
      "                if abs_val > abs_max[0]:\n",
      "                    abs_max=[abs_val, subjects[subject]]\n",
      "\n",
      "                if diff_val < diff_min[0]:\n",
      "                    diff_min=[diff_val, subjects[subject]]\n",
      "                if diff_val > diff_max[0]:\n",
      "                    diff_max=[diff_val, subjects[subject]]\n",
      "\n",
      "                # append values to arrays\n",
      "                abs_array = np.append(abs_array,abs_val)\n",
      "                diff_array = np.append(diff_array, diff_val)\n",
      "\n",
      "            # save array of all subjects to file\n",
      "            if not os.path.isdir(save_path):\n",
      "                os.mkdir(save_path)\n",
      "\n",
      "            if not os.path.isdir(save_path+'arrays/'):\n",
      "                os.mkdir(save_path+'arrays/')\n",
      "            np.save(save_path+'arrays/metrics_'+space+'_'+method+'_'+metric+'_abs.npy', abs_array)\n",
      "            np.save(save_path+'arrays/metrics_'+space+'_'+method+'_'+metric+'_diff.npy', diff_array)\n",
      "\n",
      "            # one sample t test if improvement differs from zero\n",
      "            [ttest_t, ttest_p]=sp.stats.ttest_1samp(diff_array, 0)\n",
      "\n",
      "            # save min/max values and ttest to text\n",
      "            stats_array=np.array([['ttest improvement to linear[t,p] ',str([ttest_t, ttest_p])]])\n",
      "            stats_array=np.append(stats_array, [['least improved to linear[val,subj] ',str(diff_min)]], axis=0)\n",
      "            stats_array=np.append(stats_array, [['most improved to linear[val,subj] ',str(diff_max)]], axis=0)\n",
      "            stats_array=np.append(stats_array, [['min similarity[val,subj] ',str(abs_min)]], axis=0)\n",
      "            stats_array=np.append(stats_array, [['max similarity[val,subj] ',str(abs_max)]], axis=0)\n",
      "\n",
      "            if not os.path.isdir(save_path+'stats/'):\n",
      "                os.mkdir(save_path+'stats/')\n",
      "            np.savetxt(save_path+'stats/metrics_'+space+'_'+method+'_'+metric+'_stats.txt', stats_array, delimiter=' ', fmt='%s')\n",
      "\n",
      "            # print stats for quick check\n",
      "            #print method+' minimum '+metric+' similarity = '+str(abs_min)\n",
      "            #print method+' maximum '+metric+' similarity = '+str(abs_max)\n",
      "            #print method+' least '+metric+' improvement to linear = '+str(diff_min)\n",
      "            #print method+' highest '+metric+' improvement to linear = '+str(diff_max)\n",
      "            #print method+' '+metric+' improvement diff from zero [t,p] = '+str([ttest_t, ttest_p])\n",
      "            if ttest_p <= 0.001:\n",
      "                if ttest_t >=0:\n",
      "                    print metric+' '+method+' significant improvement[t,p] = '+str([ttest_t, ttest_p])\n",
      "                elif ttest_t <=0:\n",
      "                    print metric+' '+method+' significant deterioration[t,p] = '+str([ttest_t, ttest_p])\n",
      "\n",
      "\n"
     ],
     "language": "python",
     "metadata": {},
     "outputs": [
      {
       "ename": "IOError",
       "evalue": "[Errno 2] No such file or directory: '/scr/kansas1/huntenburg/eval/version_8/LEMON001/similarity/metrics_mni_brain.txt'",
       "output_type": "pyerr",
       "traceback": [
        "\u001b[0;31m---------------------------------------------------------------------------\u001b[0m\n\u001b[0;31mIOError\u001b[0m                                   Traceback (most recent call last)",
        "\u001b[0;32m<ipython-input-7-c375a4b501a4>\u001b[0m in \u001b[0;36m<module>\u001b[0;34m()\u001b[0m\n\u001b[1;32m     39\u001b[0m             \u001b[0;32mfor\u001b[0m \u001b[0msubject\u001b[0m \u001b[0;32min\u001b[0m \u001b[0mrange\u001b[0m\u001b[0;34m(\u001b[0m\u001b[0mlen\u001b[0m\u001b[0;34m(\u001b[0m\u001b[0msubjects\u001b[0m\u001b[0;34m)\u001b[0m\u001b[0;34m)\u001b[0m\u001b[0;34m:\u001b[0m\u001b[0;34m\u001b[0m\u001b[0m\n\u001b[1;32m     40\u001b[0m                 \u001b[0mpath\u001b[0m \u001b[0;34m=\u001b[0m \u001b[0mmetric_path\u001b[0m \u001b[0;34m%\u001b[0m\u001b[0;34m(\u001b[0m\u001b[0msubjects\u001b[0m\u001b[0;34m[\u001b[0m\u001b[0msubject\u001b[0m\u001b[0;34m]\u001b[0m\u001b[0;34m)\u001b[0m\u001b[0;34m\u001b[0m\u001b[0m\n\u001b[0;32m---> 41\u001b[0;31m                 \u001b[0mmetrics_array\u001b[0m\u001b[0;34m=\u001b[0m\u001b[0mnp\u001b[0m\u001b[0;34m.\u001b[0m\u001b[0mloadtxt\u001b[0m\u001b[0;34m(\u001b[0m\u001b[0mpath\u001b[0m\u001b[0;34m,\u001b[0m \u001b[0mdtype\u001b[0m\u001b[0;34m=\u001b[0m\u001b[0;34m'float'\u001b[0m\u001b[0;34m,\u001b[0m \u001b[0mdelimiter\u001b[0m\u001b[0;34m=\u001b[0m\u001b[0;34m' '\u001b[0m\u001b[0;34m)\u001b[0m\u001b[0;34m\u001b[0m\u001b[0m\n\u001b[0m\u001b[1;32m     42\u001b[0m \u001b[0;34m\u001b[0m\u001b[0m\n\u001b[1;32m     43\u001b[0m                 \u001b[0;31m# define abs and diff values\u001b[0m\u001b[0;34m\u001b[0m\u001b[0;34m\u001b[0m\u001b[0m\n",
        "\u001b[0;32m/afs/cbs.mpg.de/software/pythonlib/numpy/1.9.1/ubuntu-precise-amd64/lib/python2.7/site-packages/numpy/lib/npyio.pyc\u001b[0m in \u001b[0;36mloadtxt\u001b[0;34m(fname, dtype, comments, delimiter, converters, skiprows, usecols, unpack, ndmin)\u001b[0m\n\u001b[1;32m    735\u001b[0m                 \u001b[0mfh\u001b[0m \u001b[0;34m=\u001b[0m \u001b[0miter\u001b[0m\u001b[0;34m(\u001b[0m\u001b[0mbz2\u001b[0m\u001b[0;34m.\u001b[0m\u001b[0mBZ2File\u001b[0m\u001b[0;34m(\u001b[0m\u001b[0mfname\u001b[0m\u001b[0;34m)\u001b[0m\u001b[0;34m)\u001b[0m\u001b[0;34m\u001b[0m\u001b[0m\n\u001b[1;32m    736\u001b[0m             \u001b[0;32melif\u001b[0m \u001b[0msys\u001b[0m\u001b[0;34m.\u001b[0m\u001b[0mversion_info\u001b[0m\u001b[0;34m[\u001b[0m\u001b[0;36m0\u001b[0m\u001b[0;34m]\u001b[0m \u001b[0;34m==\u001b[0m \u001b[0;36m2\u001b[0m\u001b[0;34m:\u001b[0m\u001b[0;34m\u001b[0m\u001b[0m\n\u001b[0;32m--> 737\u001b[0;31m                 \u001b[0mfh\u001b[0m \u001b[0;34m=\u001b[0m \u001b[0miter\u001b[0m\u001b[0;34m(\u001b[0m\u001b[0mopen\u001b[0m\u001b[0;34m(\u001b[0m\u001b[0mfname\u001b[0m\u001b[0;34m,\u001b[0m \u001b[0;34m'U'\u001b[0m\u001b[0;34m)\u001b[0m\u001b[0;34m)\u001b[0m\u001b[0;34m\u001b[0m\u001b[0m\n\u001b[0m\u001b[1;32m    738\u001b[0m             \u001b[0;32melse\u001b[0m\u001b[0;34m:\u001b[0m\u001b[0;34m\u001b[0m\u001b[0m\n\u001b[1;32m    739\u001b[0m                 \u001b[0mfh\u001b[0m \u001b[0;34m=\u001b[0m \u001b[0miter\u001b[0m\u001b[0;34m(\u001b[0m\u001b[0mopen\u001b[0m\u001b[0;34m(\u001b[0m\u001b[0mfname\u001b[0m\u001b[0;34m)\u001b[0m\u001b[0;34m)\u001b[0m\u001b[0;34m\u001b[0m\u001b[0m\n",
        "\u001b[0;31mIOError\u001b[0m: [Errno 2] No such file or directory: '/scr/kansas1/huntenburg/eval/version_8/LEMON001/similarity/metrics_mni_brain.txt'"
       ]
      }
     ],
     "prompt_number": 7
    },
    {
     "cell_type": "heading",
     "level": 3,
     "metadata": {},
     "source": [
      "Plotting distributions"
     ]
    },
    {
     "cell_type": "code",
     "collapsed": false,
     "input": [
      "sns.set_context='poster'\n",
      "sns.set(style='darkgrid')\n",
      "lin_color=(0.86, 0.37119999999999997, 0.34)\n",
      "fmap_color=(0.9677975592919913, 0.44127456009157356, 0.5358103155058701)\n",
      "topup_color=(0.75, 0.4, 0.5)\n",
      "a_color=(0.8616090647292522, 0.536495730113334, 0.19548899031476086)\n",
      "b_color=(0.8, 0.6151497514677574, 0.11111)\n",
      "c_color= (0.46810256823426105, 0.6699492535792404, 0.1928958739904499)\n",
      "d_color= (0.20125317221201128, 0.6907920815379025, 0.6)\n",
      "e_color= (0.21044753832183283, 0.55, 0.7)\n",
      "pal=sns.color_palette([lin_color, \n",
      "                       fmap_color, \n",
      "                       #topup_color, \n",
      "                       #a_color, \n",
      "                       b_color, \n",
      "                       c_color, \n",
      "                       d_color, \n",
      "                       e_color],\n",
      "                      8)"
     ],
     "language": "python",
     "metadata": {},
     "outputs": []
    },
    {
     "cell_type": "code",
     "collapsed": false,
     "input": [
      "fig = plt.figure(figsize=(25,30))\n",
      "\n",
      "i=1\n",
      "for metric in metrics:\n",
      "    for space in spaces:\n",
      "        \n",
      "        lin_abs=np.load(save_path+'arrays/metrics_'+space+'_linear_'+metric+'_abs.npy')\n",
      "        fmap_abs=np.load(save_path+'arrays/metrics_'+space+'_fmap_'+metric+'_abs.npy')\n",
      "        topup_abs=np.load(save_path+'arrays/metrics_'+space+'_topup_'+metric+'_abs.npy')\n",
      "        \n",
      "        nonlin_names=[]\n",
      "        all_nonlin_abs=np.zeros((len(lin_abs),len(all_versions)))\n",
      "        \n",
      "        row=0\n",
      "        for v in all_versions:\n",
      "            nonlin_abs=np.load('/scr/kansas1/huntenburg/eval/version_'+v+'/figures/group/arrays/metrics_'+space+'_nonlinear_'+metric+'_abs.npy')\n",
      "            nonlin_names=nonlin_names+['nonlinear '+v]\n",
      "            all_nonlin_abs[:,row]=nonlin_abs\n",
      "            row+=1\n",
      "        \n",
      "        plot_list=[lin_abs]+[fmap_abs]#+[topup_abs]\n",
      "        for j in range(len(all_versions)):\n",
      "            plot_list=plot_list+[all_nonlin_abs[:,j]]\n",
      "        \n",
      "        names=['linear']+['fieldmap']+nonlin_names#+['topup']+nonlin_names\n",
      "        \n",
      "        \n",
      "        ax = fig.add_subplot(5,2,i)\n",
      "        i=i+1\n",
      "        \n",
      "        sns.violinplot(plot_list, names=names,color=pal, \n",
      "                       #alpha=0.7\n",
      "                       )\n",
      "        sns.axlabel(space,metric)\n",
      "\n",
      "#plt.savefig(save_path+'group_similarity_violins.svg')"
     ],
     "language": "python",
     "metadata": {},
     "outputs": []
    },
    {
     "cell_type": "code",
     "collapsed": false,
     "input": [],
     "language": "python",
     "metadata": {},
     "outputs": []
    }
   ],
   "metadata": {}
  }
 ]
}