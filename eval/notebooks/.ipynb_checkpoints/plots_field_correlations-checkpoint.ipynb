{
 "metadata": {
  "name": ""
 },
 "nbformat": 3,
 "nbformat_minor": 0,
 "worksheets": [
  {
   "cells": [
    {
     "cell_type": "heading",
     "level": 2,
     "metadata": {},
     "source": [
      "Distribution of field correlations"
     ]
    },
    {
     "cell_type": "markdown",
     "metadata": {},
     "source": [
      "importing libraries"
     ]
    },
    {
     "cell_type": "code",
     "collapsed": false,
     "input": [
      "import numpy as np\n",
      "import seaborn as sns\n",
      "import matplotlib.pyplot as plt\n",
      "import scipy as sp\n",
      "import os"
     ],
     "language": "python",
     "metadata": {},
     "outputs": [
      {
       "output_type": "stream",
       "stream": "stderr",
       "text": [
        "/usr/lib/python2.7/dist-packages/nose/plugins/manager.py:405: UserWarning: Module IPython was already imported from /usr/lib/python2.7/dist-packages/IPython1X/IPython/__init__.pyc, but /home/raid3/huntenburg/workspace/pdevel/lib/python2.7/site-packages is being added to sys.path\n",
        "  import pkg_resources\n"
       ]
      }
     ],
     "prompt_number": 1
    },
    {
     "cell_type": "markdown",
     "metadata": {},
     "source": [
      "setting variables"
     ]
    },
    {
     "cell_type": "code",
     "collapsed": false,
     "input": [
      "subjects=[]\n",
      "f = open('/scr/jessica2/Schaare/LEMON/done_freesurfer.txt','r')\n",
      "for line in f:\n",
      "    subjects.append(line.strip())"
     ],
     "language": "python",
     "metadata": {},
     "outputs": [],
     "prompt_number": 2
    },
    {
     "cell_type": "code",
     "collapsed": false,
     "input": [
      "correlations = ['nonlin_fmap', 'nonlin_topup','fmap_topup']"
     ],
     "language": "python",
     "metadata": {},
     "outputs": [],
     "prompt_number": 3
    },
    {
     "cell_type": "code",
     "collapsed": false,
     "input": [
      "file_path='/scr/kansas1/huntenburg/eval/%s/fieldcompare/field_correlation_indv.txt'\n",
      "save_path='/scr/kansas1/huntenburg/eval/group/fieldcompare/indv/'"
     ],
     "language": "python",
     "metadata": {},
     "outputs": [],
     "prompt_number": 4
    },
    {
     "cell_type": "markdown",
     "metadata": {},
     "source": [
      "reading metrics and difference values into arrays, doing stats, saving to files"
     ]
    },
    {
     "cell_type": "code",
     "collapsed": false,
     "input": [
      "for correlation in correlations:\n",
      "    if correlation=='nonlin_fmap': \n",
      "        row=0\n",
      "    if correlation=='nonlin_topup': \n",
      "        row=1\n",
      "    if correlation=='fmap_topup': \n",
      "        row=2\n",
      "            \n",
      "    # initiate empty array and min/max values\n",
      "    r_array=np.array([])\n",
      "    r_min=[1, 'none']\n",
      "    r_max=[0,'none']\n",
      "        \n",
      "    # loop over subjects, read in metrics file\n",
      "    for subject in range(len(subjects)):\n",
      "        path = file_path %(subjects[subject])\n",
      "        stats_array=np.loadtxt(path, dtype='float', delimiter=' ')\n",
      "        \n",
      "        # define r values\n",
      "        r_val=stats_array[row, 2]\n",
      "        \n",
      "        # compare to min/max values and update if applicable\n",
      "        if r_val < r_min[0]:\n",
      "            r_min=[r_val,subjects[subject]]\n",
      "        if r_val > r_max[0]:\n",
      "            r_max=[r_val, subjects[subject]]\n",
      "            \n",
      "        # append values to arrays\n",
      "        r_array = np.append(r_array,r_val)\n",
      "        \n",
      "    # save array of all subjects to file\n",
      "    if not os.path.isdir(save_path):\n",
      "        os.mkdir(save_path)\n",
      "    \n",
      "    if not os.path.isdir(save_path+'arrays/'):\n",
      "        os.mkdir(save_path+'arrays/')\n",
      "    np.save(save_path+'arrays/'+correlation+'_r.npy', r_array)\n",
      "    \n",
      "    ## one sample t test if improvement differs from zero\n",
      "    #[ttest_t, ttest_p]=sp.stats.ttest_1samp(diff_array, 0)\n",
      "    #\n",
      "    ## save min/max values and ttest to text\n",
      "    #stats_array=np.array([['ttest improvement to linear[t,p] ',str([ttest_t, ttest_p])]])\n",
      "    #stats_array=np.append(stats_array, [['least improved to linear[val,subj] ',str(diff_min)]], axis=0)\n",
      "    #stats_array=np.append(stats_array, [['most improved to linear[val,subj] ',str(diff_max)]], axis=0)\n",
      "    #stats_array=np.append(stats_array, [['min similarity[val,subj] ',str(abs_min)]], axis=0)\n",
      "    #stats_array=np.append(stats_array, [['max similarity[val,subj] ',str(abs_max)]], axis=0)\n",
      "\n",
      "    #if not os.path.isdir(save_path+'stats/'):\n",
      "    #    os.mkdir(save_path+'stats/')\n",
      "    #np.savetxt(save_path+'stats/'+method+'_'+metric+'_stats.txt', stats_array, delimiter=' ', fmt='%s')\n",
      "    \n",
      "    # print stats for quick check\n",
      "    #print method+' minimum '+metric+' similarity = '+str(abs_min)\n",
      "    #print method+' maximum '+metric+' similarity = '+str(abs_max)\n",
      "    #print method+' least '+metric+' improvement to linear = '+str(diff_min)\n",
      "    #print method+' highest '+metric+' improvement to linear = '+str(diff_max)\n",
      "    #print method+' '+metric+' improvement diff from zero [t,p] = '+str([ttest_t, ttest_p])\n",
      "    #if ttest_p <= 0.01:\n",
      "    #    if ttest_t >=0:\n",
      "    #        print metric+' '+method+' significant improvement[t,p] = '+str([ttest_t, ttest_p])\n",
      "    #    elif ttest_t <=0:\n",
      "    #        print metric+' '+method+' significant deterioration[t,p] = '+str([ttest_t, ttest_p])"
     ],
     "language": "python",
     "metadata": {},
     "outputs": [],
     "prompt_number": 5
    },
    {
     "cell_type": "code",
     "collapsed": false,
     "input": [
      "np.load(save_path+'arrays/'+'nonlin_topup'+'_r.npy')"
     ],
     "language": "python",
     "metadata": {},
     "outputs": [
      {
       "metadata": {},
       "output_type": "pyout",
       "prompt_number": 6,
       "text": [
        "array([-0.27405 , -0.313982, -0.27597 , -0.210077, -0.223052, -0.28513 ,\n",
        "       -0.479329, -0.273655, -0.215567, -0.268104, -0.283179, -0.208763,\n",
        "       -0.268006, -0.155381, -0.231195, -0.148102, -0.275962, -0.109865,\n",
        "       -0.262086, -0.229532, -0.214018, -0.206163, -0.283119, -0.220055,\n",
        "       -0.426265, -0.117901, -0.125712, -0.108578, -0.237517, -0.342626,\n",
        "       -0.239034, -0.086925, -0.294077, -0.425179, -0.339542, -0.107714,\n",
        "       -0.214009, -0.081699, -0.16534 , -0.110589, -0.118999, -0.306864,\n",
        "       -0.149109, -0.316848, -0.248417, -0.258974, -0.16626 , -0.10253 ,\n",
        "       -0.258657, -0.177046, -0.137994, -0.345925, -0.294909, -0.144272,\n",
        "       -0.316763, -0.196167, -0.178743, -0.15721 , -0.023199, -0.324   ,\n",
        "       -0.184572, -0.198495, -0.272108, -0.134442, -0.289173, -0.285973,\n",
        "       -0.253727, -0.270409, -0.343087, -0.243682, -0.285223, -0.298927,\n",
        "       -0.304608])"
       ]
      }
     ],
     "prompt_number": 6
    },
    {
     "cell_type": "heading",
     "level": 2,
     "metadata": {},
     "source": [
      "Plotting distributions"
     ]
    },
    {
     "cell_type": "code",
     "collapsed": false,
     "input": [],
     "language": "python",
     "metadata": {},
     "outputs": [],
     "prompt_number": 6
    },
    {
     "cell_type": "code",
     "collapsed": false,
     "input": [
      "nonlin_fmap_r=np.load(save_path+'arrays/nonlin_fmap_r.npy')\n",
      "nonlin_topup_r=np.load(save_path+'arrays/nonlin_topup_r.npy')\n",
      "fmap_topup_r=np.load(save_path+'arrays/fmap_topup_r.npy')\n",
      "\n",
      "sns.set_context(context='talk')\n",
      "fig = plt.figure()\n",
      "ax = fig.add_subplot(111)\n",
      "pal=sns.blend_palette([\"mediumseagreen\",\"lightblue\"], 4)\n",
      "sns.violinplot([nonlin_fmap_r, nonlin_topup_r, fmap_topup_r],\n",
      "            names=[\"nonlin_fmap\",\"nonlin_topup\", \"fmap_topup\"],\n",
      "            inner=\"points\", color=pal)\n",
      "sns.axlabel('','R^2')\n",
      "\n",
      "plt.savefig(save_path+'r_violins.svg')"
     ],
     "language": "python",
     "metadata": {},
     "outputs": [
      {
       "metadata": {},
       "output_type": "display_data",
       "png": "[encoded data removed]",
       "text": [
        "<matplotlib.figure.Figure at 0x5795990>"
       ]
      }
     ],
     "prompt_number": 7
    },
    {
     "cell_type": "code",
     "collapsed": false,
     "input": [
      "lin_nonlin_reshape=lin_nonlin_r.reshape(np.size(lin_nonlin_r),1)\n",
      "lin_fmap_reshape=lin_fmap_r.reshape(np.size(lin_fmap_r),1)\n",
      "lin_topup_reshape=lin_topup_r.reshape(np.size(lin_topup_r),1)\n",
      "nonlin_fmap_reshape=nonlin_fmap_r.reshape(np.size(nonlin_fmap_r),1)\n",
      "nonlin_topup_reshape=nonlin_topup_r.reshape(np.size(nonlin_topup_r),1)\n",
      "topup_fmap_reshape=topup_fmap_r.reshape(np.size(topup_fmap_r),1)\n",
      "all_r=np.concatenate((lin_nonlin_reshape, lin_fmap_reshape, lin_topup_reshape, \n",
      "                      nonlin_fmap_reshape, nonlin_topup_reshape, topup_fmap_reshape), axis=1)"
     ],
     "language": "python",
     "metadata": {},
     "outputs": [
      {
       "ename": "NameError",
       "evalue": "name 'lin_nonlin_r' is not defined",
       "output_type": "pyerr",
       "traceback": [
        "\u001b[0;31m---------------------------------------------------------------------------\u001b[0m\n\u001b[0;31mNameError\u001b[0m                                 Traceback (most recent call last)",
        "\u001b[0;32m<ipython-input-8-97f2571ef1c8>\u001b[0m in \u001b[0;36m<module>\u001b[0;34m()\u001b[0m\n\u001b[0;32m----> 1\u001b[0;31m \u001b[0mlin_nonlin_reshape\u001b[0m\u001b[0;34m=\u001b[0m\u001b[0mlin_nonlin_r\u001b[0m\u001b[0;34m.\u001b[0m\u001b[0mreshape\u001b[0m\u001b[0;34m(\u001b[0m\u001b[0mnp\u001b[0m\u001b[0;34m.\u001b[0m\u001b[0msize\u001b[0m\u001b[0;34m(\u001b[0m\u001b[0mlin_nonlin_r\u001b[0m\u001b[0;34m)\u001b[0m\u001b[0;34m,\u001b[0m\u001b[0;36m1\u001b[0m\u001b[0;34m)\u001b[0m\u001b[0;34m\u001b[0m\u001b[0m\n\u001b[0m\u001b[1;32m      2\u001b[0m \u001b[0mlin_fmap_reshape\u001b[0m\u001b[0;34m=\u001b[0m\u001b[0mlin_fmap_r\u001b[0m\u001b[0;34m.\u001b[0m\u001b[0mreshape\u001b[0m\u001b[0;34m(\u001b[0m\u001b[0mnp\u001b[0m\u001b[0;34m.\u001b[0m\u001b[0msize\u001b[0m\u001b[0;34m(\u001b[0m\u001b[0mlin_fmap_r\u001b[0m\u001b[0;34m)\u001b[0m\u001b[0;34m,\u001b[0m\u001b[0;36m1\u001b[0m\u001b[0;34m)\u001b[0m\u001b[0;34m\u001b[0m\u001b[0m\n\u001b[1;32m      3\u001b[0m \u001b[0mlin_topup_reshape\u001b[0m\u001b[0;34m=\u001b[0m\u001b[0mlin_topup_r\u001b[0m\u001b[0;34m.\u001b[0m\u001b[0mreshape\u001b[0m\u001b[0;34m(\u001b[0m\u001b[0mnp\u001b[0m\u001b[0;34m.\u001b[0m\u001b[0msize\u001b[0m\u001b[0;34m(\u001b[0m\u001b[0mlin_topup_r\u001b[0m\u001b[0;34m)\u001b[0m\u001b[0;34m,\u001b[0m\u001b[0;36m1\u001b[0m\u001b[0;34m)\u001b[0m\u001b[0;34m\u001b[0m\u001b[0m\n\u001b[1;32m      4\u001b[0m \u001b[0mnonlin_fmap_reshape\u001b[0m\u001b[0;34m=\u001b[0m\u001b[0mnonlin_fmap_r\u001b[0m\u001b[0;34m.\u001b[0m\u001b[0mreshape\u001b[0m\u001b[0;34m(\u001b[0m\u001b[0mnp\u001b[0m\u001b[0;34m.\u001b[0m\u001b[0msize\u001b[0m\u001b[0;34m(\u001b[0m\u001b[0mnonlin_fmap_r\u001b[0m\u001b[0;34m)\u001b[0m\u001b[0;34m,\u001b[0m\u001b[0;36m1\u001b[0m\u001b[0;34m)\u001b[0m\u001b[0;34m\u001b[0m\u001b[0m\n\u001b[1;32m      5\u001b[0m \u001b[0mnonlin_topup_reshape\u001b[0m\u001b[0;34m=\u001b[0m\u001b[0mnonlin_topup_r\u001b[0m\u001b[0;34m.\u001b[0m\u001b[0mreshape\u001b[0m\u001b[0;34m(\u001b[0m\u001b[0mnp\u001b[0m\u001b[0;34m.\u001b[0m\u001b[0msize\u001b[0m\u001b[0;34m(\u001b[0m\u001b[0mnonlin_topup_r\u001b[0m\u001b[0;34m)\u001b[0m\u001b[0;34m,\u001b[0m\u001b[0;36m1\u001b[0m\u001b[0;34m)\u001b[0m\u001b[0;34m\u001b[0m\u001b[0m\n",
        "\u001b[0;31mNameError\u001b[0m: name 'lin_nonlin_r' is not defined"
       ]
      }
     ],
     "prompt_number": 8
    }
   ],
   "metadata": {}
  }
 ]
}