{
 "metadata": {
  "name": "",
  "signature": "sha256:808d9d688671cc13258172db6c6858f7ab61a2c81c18fb2f6ce53699823de16a"
 },
 "nbformat": 3,
 "nbformat_minor": 0,
 "worksheets": [
  {
   "cells": [
    {
     "cell_type": "heading",
     "level": 2,
     "metadata": {},
     "source": [
      "Correlation nonlin to original field over different levels of distortion\n",
      "and robust min/max of fields"
     ]
    },
    {
     "cell_type": "code",
     "collapsed": false,
     "input": [
      "import numpy as np\n",
      "import seaborn as sns\n",
      "import matplotlib.pyplot as plt\n",
      "import scipy as sp\n",
      "import os\n",
      "import pandas as pd"
     ],
     "language": "python",
     "metadata": {},
     "outputs": [],
     "prompt_number": 1
    },
    {
     "cell_type": "heading",
     "level": 1,
     "metadata": {},
     "source": [
      "CHECK BEFORE RUNNING"
     ]
    },
    {
     "cell_type": "code",
     "collapsed": false,
     "input": [
      "version='version_8'\n",
      "all_versions=['8','5','11']#['8','10','5','6','11']"
     ],
     "language": "python",
     "metadata": {},
     "outputs": [],
     "prompt_number": 2
    },
    {
     "cell_type": "code",
     "collapsed": false,
     "input": [
      "distortions=['0001', '0002', '0003', '0004', '0005', '0006', '0007', '0008', '0009', '0010']"
     ],
     "language": "python",
     "metadata": {},
     "outputs": [],
     "prompt_number": 3
    },
    {
     "cell_type": "code",
     "collapsed": false,
     "input": [
      "corr_txt='/scr/kansas1/huntenburg/eval/'+version+'/simulated/%s/fields/correlation_fields.txt'\n",
      "min_max_txt='/scr/kansas1/huntenburg/eval/'+version+'/simulated/%s/fields/min_max_fields.txt'\n",
      "save_path='/scr/kansas1/huntenburg/eval/'+version+'/figures/simulated/'"
     ],
     "language": "python",
     "metadata": {},
     "outputs": [],
     "prompt_number": 4
    },
    {
     "cell_type": "heading",
     "level": 3,
     "metadata": {},
     "source": [
      "Reading values into arrays"
     ]
    },
    {
     "cell_type": "code",
     "collapsed": false,
     "input": [
      "# initiate empty array and add value for no distortion\n",
      "r_array=np.array([])\n",
      "nonlin_min_array=np.array([])\n",
      "nonlin_max_array=np.array([])\n",
      "fmap_min_array=np.array([])\n",
      "fmap_max_array=np.array([])\n",
      "\n",
      "for distortion in distortions:\n",
      "    corr_path = corr_txt %(distortion)\n",
      "    min_max_path = min_max_txt %(distortion)\n",
      "    corr_array=np.loadtxt(corr_path, dtype='float', delimiter=' ')\n",
      "    min_max_array=np.loadtxt(min_max_path, dtype='float', delimiter=' ')\n",
      "    \n",
      "    # get r and min max values\n",
      "    r_val=corr_array[0]\n",
      "    nonlin_min_val=min_max_array[0,0]\n",
      "    nonlin_max_val=min_max_array[0,1]\n",
      "    fmap_min_val=min_max_array[1,0]\n",
      "    fmap_max_val=min_max_array[1,1]\n",
      "        \n",
      "    # append values to arrays\n",
      "    r_array = np.append(r_array,r_val)\n",
      "    nonlin_min_array = np.append(nonlin_min_array, nonlin_min_val)\n",
      "    nonlin_max_array = np.append(nonlin_max_array, nonlin_max_val)\n",
      "    fmap_min_array = np.append(fmap_min_array, fmap_min_val)\n",
      "    fmap_max_array = np.append(fmap_max_array, fmap_max_val)\n",
      "    \n",
      "# save array across distotions to file\n",
      "if not os.path.isdir(save_path):\n",
      "    os.mkdir(save_path)\n",
      "\n",
      "if not os.path.isdir(save_path+'arrays/'):\n",
      "    os.mkdir(save_path+'arrays/')\n",
      "np.save(save_path+'arrays/fields_r.npy', r_array)\n",
      "np.save(save_path+'arrays/nonlin_min.npy', nonlin_min_array)\n",
      "np.save(save_path+'arrays/nonlin_max.npy', nonlin_max_array)\n",
      "np.save(save_path+'arrays/fmap_min.npy', fmap_min_array)\n",
      "np.save(save_path+'arrays/fmap_max.npy', fmap_max_array)"
     ],
     "language": "python",
     "metadata": {},
     "outputs": [],
     "prompt_number": 5
    },
    {
     "cell_type": "heading",
     "level": 3,
     "metadata": {},
     "source": [
      "Plotting field correlations and min max"
     ]
    },
    {
     "cell_type": "code",
     "collapsed": false,
     "input": [
      "dwell=['0.1','0.2','0.3','0.4','0.5','0.6','0.7','0.8','0.9','1.0']\n",
      "fmap_min=np.load(save_path+'arrays/fmap_min.npy')\n",
      "fmap_max=np.load(save_path+'arrays/fmap_max.npy')\n",
      "\n",
      "\n",
      "all_field=np.array([])\n",
      "all_nonlin_min=np.array([])\n",
      "all_nonlin_max=np.array([])\n",
      "name_nonlin=[]\n",
      "hue_order=[]\n",
      "for v in all_versions:\n",
      "    field_r=np.load('/scr/kansas1/huntenburg/eval/version_'+v+'/figures/simulated/arrays/fields_r.npy')\n",
      "    nonlin_min=np.load('/scr/kansas1/huntenburg/eval/version_'+v+'/figures/simulated/arrays/nonlin_min.npy')\n",
      "    nonlin_max=np.load('/scr/kansas1/huntenburg/eval/version_'+v+'/figures/simulated/arrays/nonlin_max.npy')\n",
      "    \n",
      "    all_field=np.append(all_field, field_r)\n",
      "    all_nonlin_min=np.append(all_nonlin_min, nonlin_min)\n",
      "    all_nonlin_max=np.append(all_nonlin_max, nonlin_max)\n",
      "    \n",
      "    #name_nonlin=name_nonlin + ['nonlinear version '+v,]*len(field_r,)\n",
      "    #name_nonlin=['v1']*len(field_r,)+['v2']*len(field_r,)+['v3']*len(field_r,)+['v4']*len(field_r,)+['v5']*len(field_r,)\n",
      "    name_nonlin=['nonlin many']*len(field_r,)+['nonlin few']*len(field_r,)+['nonlin bspline']*len(field_r,)\n",
      "    #hue_order = hue_order+['nonlinear version '+v,]\n",
      "    #hue_order = ['v1','v2', 'v3','v4','v5']\n",
      "    hue_order = ['nonlin many','nonlin few', 'nonlin bspline']\n",
      "    \n",
      "    \n",
      "field_df = pd.DataFrame((all_field), columns=[\"spearman's rho\"])\n",
      "field_df['method'] = name_nonlin\n",
      "field_df['echo spacing [ms]'] = dwell*len(all_versions)\n",
      "\n",
      "minmax_df = pd.DataFrame(np.concatenate((fmap_min, all_nonlin_min, fmap_max,all_nonlin_max)), columns=[\"shift [mm]\"])#, \"max shift [mm]\"])\n",
      "minmax_df['range']=['min']*(len(all_versions)+1)*10+['max']*(len(all_versions)+1)*10\n",
      "minmax_df['method']=(['fmap']*len(field_r)+name_nonlin)*2\n",
      "minmax_df['echo spacing [ms]'] = (dwell*(2*(len(all_versions)+1)))\n",
      "\n",
      "\n",
      "\n",
      "#differences\n",
      "fmap_diff=fmap_max+abs(fmap_min)\n",
      "all_nonlin_diff=all_nonlin_max+abs(all_nonlin_min)\n",
      "\n",
      "diff_df = pd.DataFrame(np.concatenate((fmap_diff, all_nonlin_diff)), columns=[\"shift [mm]\"])#, \"max shift [mm]\"])\n",
      "diff_df['method']=(['fmap']*len(field_r)+name_nonlin)\n",
      "diff_df['echo spacing [ms]'] = (dwell*((len(all_versions)+1)))"
     ],
     "language": "python",
     "metadata": {},
     "outputs": [
      {
       "ename": "ValueError",
       "evalue": "Length of values does not match length of index",
       "output_type": "pyerr",
       "traceback": [
        "\u001b[0;31m---------------------------------------------------------------------------\u001b[0m\n\u001b[0;31mValueError\u001b[0m                                Traceback (most recent call last)",
        "\u001b[0;32m<ipython-input-6-46d138532bd8>\u001b[0m in \u001b[0;36m<module>\u001b[0;34m()\u001b[0m\n\u001b[1;32m     25\u001b[0m \u001b[0;34m\u001b[0m\u001b[0m\n\u001b[1;32m     26\u001b[0m \u001b[0mfield_df\u001b[0m \u001b[0;34m=\u001b[0m \u001b[0mpd\u001b[0m\u001b[0;34m.\u001b[0m\u001b[0mDataFrame\u001b[0m\u001b[0;34m(\u001b[0m\u001b[0;34m(\u001b[0m\u001b[0mall_field\u001b[0m\u001b[0;34m)\u001b[0m\u001b[0;34m,\u001b[0m \u001b[0mcolumns\u001b[0m\u001b[0;34m=\u001b[0m\u001b[0;34m[\u001b[0m\u001b[0;34m\"spearman's rho\"\u001b[0m\u001b[0;34m]\u001b[0m\u001b[0;34m)\u001b[0m\u001b[0;34m\u001b[0m\u001b[0m\n\u001b[0;32m---> 27\u001b[0;31m \u001b[0mfield_df\u001b[0m\u001b[0;34m[\u001b[0m\u001b[0;34m'method'\u001b[0m\u001b[0;34m]\u001b[0m \u001b[0;34m=\u001b[0m \u001b[0mname_nonlin\u001b[0m\u001b[0;34m\u001b[0m\u001b[0m\n\u001b[0m\u001b[1;32m     28\u001b[0m \u001b[0mfield_df\u001b[0m\u001b[0;34m[\u001b[0m\u001b[0;34m'echo spacing [ms]'\u001b[0m\u001b[0;34m]\u001b[0m \u001b[0;34m=\u001b[0m \u001b[0mdwell\u001b[0m\u001b[0;34m*\u001b[0m\u001b[0mlen\u001b[0m\u001b[0;34m(\u001b[0m\u001b[0mall_versions\u001b[0m\u001b[0;34m)\u001b[0m\u001b[0;34m\u001b[0m\u001b[0m\n\u001b[1;32m     29\u001b[0m \u001b[0;34m\u001b[0m\u001b[0m\n",
        "\u001b[0;32m/usr/lib/python2.7/dist-packages/pandas/core/frame.pyc\u001b[0m in \u001b[0;36m__setitem__\u001b[0;34m(self, key, value)\u001b[0m\n\u001b[1;32m   2005\u001b[0m         \u001b[0;32melse\u001b[0m\u001b[0;34m:\u001b[0m\u001b[0;34m\u001b[0m\u001b[0m\n\u001b[1;32m   2006\u001b[0m             \u001b[0;31m# set column\u001b[0m\u001b[0;34m\u001b[0m\u001b[0;34m\u001b[0m\u001b[0m\n\u001b[0;32m-> 2007\u001b[0;31m             \u001b[0mself\u001b[0m\u001b[0;34m.\u001b[0m\u001b[0m_set_item\u001b[0m\u001b[0;34m(\u001b[0m\u001b[0mkey\u001b[0m\u001b[0;34m,\u001b[0m \u001b[0mvalue\u001b[0m\u001b[0;34m)\u001b[0m\u001b[0;34m\u001b[0m\u001b[0m\n\u001b[0m\u001b[1;32m   2008\u001b[0m \u001b[0;34m\u001b[0m\u001b[0m\n\u001b[1;32m   2009\u001b[0m     \u001b[0;32mdef\u001b[0m \u001b[0m_setitem_slice\u001b[0m\u001b[0;34m(\u001b[0m\u001b[0mself\u001b[0m\u001b[0;34m,\u001b[0m \u001b[0mkey\u001b[0m\u001b[0;34m,\u001b[0m \u001b[0mvalue\u001b[0m\u001b[0;34m)\u001b[0m\u001b[0;34m:\u001b[0m\u001b[0;34m\u001b[0m\u001b[0m\n",
        "\u001b[0;32m/usr/lib/python2.7/dist-packages/pandas/core/frame.pyc\u001b[0m in \u001b[0;36m_set_item\u001b[0;34m(self, key, value)\u001b[0m\n\u001b[1;32m   2083\u001b[0m         \u001b[0mis_existing\u001b[0m \u001b[0;34m=\u001b[0m \u001b[0mkey\u001b[0m \u001b[0;32min\u001b[0m \u001b[0mself\u001b[0m\u001b[0;34m.\u001b[0m\u001b[0mcolumns\u001b[0m\u001b[0;34m\u001b[0m\u001b[0m\n\u001b[1;32m   2084\u001b[0m         \u001b[0mself\u001b[0m\u001b[0;34m.\u001b[0m\u001b[0m_ensure_valid_index\u001b[0m\u001b[0;34m(\u001b[0m\u001b[0mvalue\u001b[0m\u001b[0;34m)\u001b[0m\u001b[0;34m\u001b[0m\u001b[0m\n\u001b[0;32m-> 2085\u001b[0;31m         \u001b[0mvalue\u001b[0m \u001b[0;34m=\u001b[0m \u001b[0mself\u001b[0m\u001b[0;34m.\u001b[0m\u001b[0m_sanitize_column\u001b[0m\u001b[0;34m(\u001b[0m\u001b[0mkey\u001b[0m\u001b[0;34m,\u001b[0m \u001b[0mvalue\u001b[0m\u001b[0;34m)\u001b[0m\u001b[0;34m\u001b[0m\u001b[0m\n\u001b[0m\u001b[1;32m   2086\u001b[0m         \u001b[0mNDFrame\u001b[0m\u001b[0;34m.\u001b[0m\u001b[0m_set_item\u001b[0m\u001b[0;34m(\u001b[0m\u001b[0mself\u001b[0m\u001b[0;34m,\u001b[0m \u001b[0mkey\u001b[0m\u001b[0;34m,\u001b[0m \u001b[0mvalue\u001b[0m\u001b[0;34m)\u001b[0m\u001b[0;34m\u001b[0m\u001b[0m\n\u001b[1;32m   2087\u001b[0m \u001b[0;34m\u001b[0m\u001b[0m\n",
        "\u001b[0;32m/usr/lib/python2.7/dist-packages/pandas/core/frame.pyc\u001b[0m in \u001b[0;36m_sanitize_column\u001b[0;34m(self, key, value)\u001b[0m\n\u001b[1;32m   2139\u001b[0m         \u001b[0;32melif\u001b[0m \u001b[0misinstance\u001b[0m\u001b[0;34m(\u001b[0m\u001b[0mvalue\u001b[0m\u001b[0;34m,\u001b[0m \u001b[0mIndex\u001b[0m\u001b[0;34m)\u001b[0m \u001b[0;32mor\u001b[0m \u001b[0m_is_sequence\u001b[0m\u001b[0;34m(\u001b[0m\u001b[0mvalue\u001b[0m\u001b[0;34m)\u001b[0m\u001b[0;34m:\u001b[0m\u001b[0;34m\u001b[0m\u001b[0m\n\u001b[1;32m   2140\u001b[0m             \u001b[0;32mif\u001b[0m \u001b[0mlen\u001b[0m\u001b[0;34m(\u001b[0m\u001b[0mvalue\u001b[0m\u001b[0;34m)\u001b[0m \u001b[0;34m!=\u001b[0m \u001b[0mlen\u001b[0m\u001b[0;34m(\u001b[0m\u001b[0mself\u001b[0m\u001b[0;34m.\u001b[0m\u001b[0mindex\u001b[0m\u001b[0;34m)\u001b[0m\u001b[0;34m:\u001b[0m\u001b[0;34m\u001b[0m\u001b[0m\n\u001b[0;32m-> 2141\u001b[0;31m                 raise ValueError('Length of values does not match length of '\n\u001b[0m\u001b[1;32m   2142\u001b[0m                                  'index')\n\u001b[1;32m   2143\u001b[0m \u001b[0;34m\u001b[0m\u001b[0m\n",
        "\u001b[0;31mValueError\u001b[0m: Length of values does not match length of index"
       ]
      }
     ],
     "prompt_number": 6
    },
    {
     "cell_type": "code",
     "collapsed": false,
     "input": [
      "sns.set_context='poster'\n",
      "sns.set(style='darkgrid')\n",
      "lin_color=(0.86, 0.37119999999999997, 0.34)\n",
      "fmap_color=(0.9677975592919913, 0.44127456009157356, 0.5358103155058701)\n",
      "topup_color=(0.75, 0.4, 0.5)\n",
      "a_color=(0.8616090647292522, 0.536495730113334, 0.19548899031476086)\n",
      "b_color=(0.8, 0.6151497514677574, 0.11111)\n",
      "c_color= (0.46810256823426105, 0.6699492535792404, 0.1928958739904499)\n",
      "d_color= (0.20125317221201128, 0.6907920815379025, 0.6)\n",
      "e_color= (0.21044753832183283, 0.55, 0.7)"
     ],
     "language": "python",
     "metadata": {},
     "outputs": []
    },
    {
     "cell_type": "code",
     "collapsed": false,
     "input": [
      "pal=sns.color_palette([#lin_color, \n",
      "                       #fmap_color, \n",
      "                       #topup_color, \n",
      "                       a_color, \n",
      "                       b_color, \n",
      "                       c_color, \n",
      "                       d_color, \n",
      "                       e_color],\n",
      "                      5)\n",
      "sns.factorplot(\"echo spacing [ms]\", \"spearman's rho\", \"method\", field_df, palette=pal, \n",
      "               hue_order = hue_order,aspect=1.5, markers=['o']*len(hue_order), linestyles=['-']*len(hue_order))\n",
      "\n",
      "#plt.savefig(save_path+'across_levels_field_spearmancorr.svg')\n",
      "plt.savefig(save_path+'across_levels_field_spearmancorr_for_figure.svg')"
     ],
     "language": "python",
     "metadata": {},
     "outputs": []
    },
    {
     "cell_type": "code",
     "collapsed": false,
     "input": [
      "pal=sns.color_palette([#lin_color, \n",
      "                       fmap_color, \n",
      "                       #topup_color, \n",
      "                       a_color, \n",
      "                       b_color, \n",
      "                       c_color, \n",
      "                       d_color, \n",
      "                       e_color],\n",
      "                      6)\n",
      "\n",
      "#sns.factorplot(\"echo spacing [ms]\", \"shift [mm]\", \"method\", minmax_df, palette=pal, hue_order = ['fieldmap']+hue_order,\n",
      "#               aspect=1.5,  kind='point', ci=None, col=\"range\")\n",
      "sns.factorplot(\"echo spacing [ms]\", \"shift [mm]\", \"method\", diff_df, palette=pal, hue_order = ['fmap']+hue_order,\n",
      "               aspect=1.5,  kind='point', ci=None)\n",
      "\n",
      "\n",
      "#plt.savefig(save_path+'across_levels_field_minmax.svg')\n",
      "plt.savefig(save_path+'across_levels_field_diff_for_figure.svg')"
     ],
     "language": "python",
     "metadata": {},
     "outputs": []
    },
    {
     "cell_type": "code",
     "collapsed": false,
     "input": [
      " "
     ],
     "language": "python",
     "metadata": {},
     "outputs": []
    },
    {
     "cell_type": "code",
     "collapsed": false,
     "input": [],
     "language": "python",
     "metadata": {},
     "outputs": []
    }
   ],
   "metadata": {}
  }
 ]
}