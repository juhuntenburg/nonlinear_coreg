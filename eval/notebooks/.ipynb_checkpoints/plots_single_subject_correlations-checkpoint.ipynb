{
 "metadata": {
  "name": ""
 },
 "nbformat": 3,
 "nbformat_minor": 0,
 "worksheets": [
  {
   "cells": [
    {
     "cell_type": "heading",
     "level": 2,
     "metadata": {},
     "source": [
      "voxelwise correlation of two images"
     ]
    },
    {
     "cell_type": "code",
     "collapsed": false,
     "input": [
      "import nibabel as nb\n",
      "import scipy as sp\n",
      "import seaborn as sns\n",
      "import pandas as pd\n",
      "import matplotlib.pyplot as plt\n",
      "import os"
     ],
     "language": "python",
     "metadata": {},
     "outputs": [],
     "prompt_number": 58
    },
    {
     "cell_type": "code",
     "collapsed": false,
     "input": [
      "version='version_1'"
     ],
     "language": "python",
     "metadata": {},
     "outputs": [],
     "prompt_number": 59
    },
    {
     "cell_type": "code",
     "collapsed": false,
     "input": [
      "subject='LEMON001'\n",
      "image1_label='fmap mean mni'\n",
      "image2_label= 'nonlin mean mni'\n",
      "contrast='fmap_nonlin_mean_mni'\n",
      "\n",
      "image1='/scr/jessica2/Schaare/LEMON/preprocessed/%s/fieldmap_coreg/fmap_mean_norm.nii.gz' %(subject)\n",
      "#image1='/scr/jessica2/Schaare/LEMON/preprocessed/%s/fieldmap_coreg/fmap_mean_coreg.nii.gz' %(subject)\n",
      "#image1='/scr/kansas1/huntenburg/eval/%s/fieldcompare/fields/fmap_field.nii.gz' %(subject)\n",
      "#image2='/scr/kansas1/huntenburg/eval/group/groupmeans/fmap_groupmean.nii.gz'\n",
      "\n",
      "\n",
      "image2='/scr/jessica2/Schaare/LEMON/preprocessed/%s/nonlin_coreg/nonlin_mean_norm.nii.gz' %(subject)\n",
      "#image1='/scr/jessica2/Schaare/LEMON/preprocessed/%s/nonlin_coreg/nonlin_mean_coreg.nii.gz' %(subject)\n",
      "#image2='/scr/kansas1/huntenburg/eval/%s/fieldcompare/fields/nonlin_field.nii.gz' %(subject)\n",
      "#image1='/scr/kansas1/huntenburg/eval/group/groupmeans/nonlin_groupmean.nii.gz'\n",
      "\n",
      "# mask has to be same dimensions!\n",
      "mask='/scr/kansas1/huntenburg/eval/mni/MNI152_T1_1mm_brain_mask.nii.gz'\n",
      "#mask='/scr/kansas1/huntenburg/eval/mni/Harvard_Oxford_frontal_orbital_thr_25.nii.gz'\n",
      "#mask='/scr/jessica2/Schaare/LEMON/preprocessed/%s/freesurfer_anatomy/brain_out_mask.nii.gz' %(subject)\n",
      "#mask='/scr/kansas1/huntenburg/eval/%s/fieldcompare/fields/fieldmask.nii.gz' %(subject)\n",
      "\n",
      "save_path='/scr/kansas1/huntenburg/eval/'+version+'/figures/single/'+subject+'/'"
     ],
     "language": "python",
     "metadata": {},
     "outputs": [],
     "prompt_number": 60
    },
    {
     "cell_type": "markdown",
     "metadata": {},
     "source": [
      "load data"
     ]
    },
    {
     "cell_type": "code",
     "collapsed": false,
     "input": [
      "img1=nb.load(image1).get_data()\n",
      "img2=nb.load(image2).get_data()\n",
      "mask=nb.load(mask).get_data()"
     ],
     "language": "python",
     "metadata": {},
     "outputs": [],
     "prompt_number": 61
    },
    {
     "cell_type": "code",
     "collapsed": false,
     "input": [
      "print shape(img1)\n",
      "print shape(img2)\n",
      "print shape(mask)"
     ],
     "language": "python",
     "metadata": {},
     "outputs": [
      {
       "output_type": "stream",
       "stream": "stdout",
       "text": [
        "(182, 218, 182)\n",
        "(182, 218, 182)\n",
        "(182, 218, 182)\n"
       ]
      }
     ],
     "prompt_number": 62
    },
    {
     "cell_type": "markdown",
     "metadata": {},
     "source": [
      "reduce data to mask"
     ]
    },
    {
     "cell_type": "code",
     "collapsed": false,
     "input": [
      "img1_masked=img1[mask>0]\n",
      "img2_masked=img2[mask>0]"
     ],
     "language": "python",
     "metadata": {},
     "outputs": [],
     "prompt_number": 63
    },
    {
     "cell_type": "code",
     "collapsed": false,
     "input": [
      "print shape(img1.flatten())\n",
      "print shape(img2.flatten())\n",
      "print shape(img1_masked)\n",
      "print shape(img2_masked)"
     ],
     "language": "python",
     "metadata": {},
     "outputs": [
      {
       "output_type": "stream",
       "stream": "stdout",
       "text": [
        "(7221032,)\n",
        "(7221032,)"
       ]
      },
      {
       "output_type": "stream",
       "stream": "stdout",
       "text": [
        "\n",
        "(1837809,)\n",
        "(1837809,)\n"
       ]
      }
     ],
     "prompt_number": 64
    },
    {
     "cell_type": "markdown",
     "metadata": {},
     "source": [
      "calculate linear regression"
     ]
    },
    {
     "cell_type": "code",
     "collapsed": false,
     "input": [
      "[slope, intercept, r, p, stderr] = sp.stats.linregress(img1_masked, img2_masked)\n",
      "print 'R^2 '+str(r)\n",
      "print 'slope '+str(slope)\n",
      "print 'intercept '+str(intercept)\n",
      "print 'p value '+str(p)\n",
      "print 'stderr '+str(stderr)"
     ],
     "language": "python",
     "metadata": {},
     "outputs": [
      {
       "output_type": "stream",
       "stream": "stdout",
       "text": [
        "R^2 0.942459408421\n",
        "slope 0.938901468535\n",
        "intercept 41.8610387337\n",
        "p value 0.0\n",
        "stderr 0.000245680422739\n"
       ]
      }
     ],
     "prompt_number": 65
    },
    {
     "cell_type": "markdown",
     "metadata": {},
     "source": [
      "plot regression"
     ]
    },
    {
     "cell_type": "code",
     "collapsed": false,
     "input": [
      "if not os.path.isdir(save_path):\n",
      "    os.mkdir(save_path)"
     ],
     "language": "python",
     "metadata": {},
     "outputs": [],
     "prompt_number": "*"
    },
    {
     "cell_type": "code",
     "collapsed": false,
     "input": [
      "sns.set_context(context='talk')\n",
      "fig = plt.figure()\n",
      "sns.jointplot(img1_masked, img2_masked, kind='reg', color='mediumseagreen')\n",
      "sns.axlabel(image1_label,image2_label)\n",
      "\n",
      "plt.savefig(save_path+contrast+'_reg.svg')\n",
      "plt.savefig(save_path+contrast+'_reg.jpg')\n",
      "\n",
      "fig = plt.figure()\n",
      "sns.jointplot(img1_masked, img2_masked, kind='kde', color='mediumseagreen')#, xlim=(-5,5), ylim=(-1,1))\n",
      "sns.axlabel(image1_label,image2_label)\n",
      "\n",
      "plt.savefig(save_path+contrast+'_kde.svg')"
     ],
     "language": "python",
     "metadata": {},
     "outputs": [],
     "prompt_number": "*"
    },
    {
     "cell_type": "code",
     "collapsed": false,
     "input": [],
     "language": "python",
     "metadata": {},
     "outputs": [],
     "prompt_number": "*"
    }
   ],
   "metadata": {}
  }
 ]
}