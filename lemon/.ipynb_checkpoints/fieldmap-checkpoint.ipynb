{
 "metadata": {
  "name": ""
 },
 "nbformat": 3,
 "nbformat_minor": 0,
 "worksheets": [
  {
   "cells": [
    {
     "cell_type": "heading",
     "level": 2,
     "metadata": {},
     "source": [
      "Fielmap correction of LEMON RS sequence"
     ]
    },
    {
     "cell_type": "markdown",
     "metadata": {},
     "source": [
      "prepare_field_map\n",
      "\n",
      "http://fsl.fmrib.ox.ac.uk/fslcourse/lectures/practicals/reg/index.html#featreg\n",
      "\n",
      "http://fsl.fmrib.ox.ac.uk/fsl/fslwiki/FUGUE/Guide#SIEMENS_data\n",
      "\n",
      "http://fsl.fmrib.ox.ac.uk/fsl/fsl-4.1.9/fugue/feat_fieldmap.html\n",
      "\n",
      "fugue\n",
      "\n",
      "http://fsl.fmrib.ox.ac.uk/fsl/fsl-4.1.9/fugue/index.html\n",
      "\n",
      "epi_reg\n",
      "\n",
      "http://fsl.fmrib.ox.ac.uk/fsl/fslwiki/FLIRT/UserGuide"
     ]
    },
    {
     "cell_type": "heading",
     "level": 4,
     "metadata": {},
     "source": [
      "Which images?"
     ]
    },
    {
     "cell_type": "markdown",
     "metadata": {},
     "source": [
      "Scan 4: two different magnitude images -> choose the 'best looking' (mostly 1st one acc to fsl course)\n",
      "\n",
      "Scan 3: phase image\n",
      "\n",
      "Sequence information: TR 680 ms, TE 1 5.19 ms, TE 2 7.65 ms"
     ]
    },
    {
     "cell_type": "heading",
     "level": 4,
     "metadata": {},
     "source": [
      "Import"
     ]
    },
    {
     "cell_type": "code",
     "collapsed": false,
     "input": [
      "from nipype.pipeline.engine import Node\n",
      "import nipype.interfaces.fsl as fsl\n",
      "import nipype.interfaces.dcm2nii as dcm2nii\n",
      "import nipype.interfaces.io as nio\n",
      "import os"
     ],
     "language": "python",
     "metadata": {},
     "outputs": [],
     "prompt_number": 25
    },
    {
     "cell_type": "heading",
     "level": 4,
     "metadata": {},
     "source": [
      "Convert dcm to nii\n"
     ]
    },
    {
     "cell_type": "code",
     "collapsed": false,
     "input": [
      "##### dcmstack --dest-dir niftis/03820_0d/3/ --file-ext '' dicoms/03820_0d/scans/3/DICOM/\n",
      "##### does not work for the phase image\n",
      "\n",
      "#dcm2nii -d N -4 N -o /scr/kalifornien1/data/lemon/niftis/03820_0d/3/ /scr/kalifornien1/data/lemon/dicoms/03820_0d/scans/3/DICOM/*\n",
      "#dcm2nii -d N -o /scr/kalifornien1/data/lemon/niftis/03820_0d/4/ /scr/kalifornien1/data/lemon/dicoms/03820_0d/scans/4/DICOM/*\n"
     ],
     "language": "python",
     "metadata": {},
     "outputs": [],
     "prompt_number": 47
    },
    {
     "cell_type": "code",
     "collapsed": false,
     "input": [
      "#fslinfo niftis/03820_0d/4/grefieldmappings004a2001.nii.gz \n",
      "#"
     ],
     "language": "python",
     "metadata": {},
     "outputs": []
    },
    {
     "cell_type": "code",
     "collapsed": false,
     "input": [
      "\n",
      "convert=Node(dcm2nii.Dcm2nii(gzip_output= True,\n",
      "                             args='-d N -4 N'),\n",
      "             name='convert')\n",
      "\n",
      "convert.inputs.source_names = dicoms_3\n",
      "convert.inputs.output_dir = '/scr/kalifornien1/data/lemon/niftis/03820_0d/3/'"
     ],
     "language": "python",
     "metadata": {},
     "outputs": []
    },
    {
     "cell_type": "code",
     "collapsed": false,
     "input": [
      "subjects=!ls /scr/kalifornien1/data/lemon/dicoms"
     ],
     "language": "python",
     "metadata": {},
     "outputs": [],
     "prompt_number": 12
    }
   ],
   "metadata": {}
  }
 ]
}