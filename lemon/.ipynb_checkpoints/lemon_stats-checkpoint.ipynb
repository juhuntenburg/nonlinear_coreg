{
 "metadata": {
  "name": ""
 },
 "nbformat": 3,
 "nbformat_minor": 0,
 "worksheets": [
  {
   "cells": [
    {
     "cell_type": "code",
     "collapsed": false,
     "input": [
      "import numpy as np\n",
      "subjects=[]\n",
      "f = open('/scr/jessica2/Schaare/LEMON/done_freesurfer.txt','r')\n",
      "for line in f:\n",
      "    subjects.append(line.strip())\n",
      "subjects.remove('LEMON027')\n",
      "subjects.remove('LEMON007')\n",
      "subjects.remove('LEMON054')"
     ],
     "language": "python",
     "metadata": {},
     "outputs": [],
     "prompt_number": 75
    },
    {
     "cell_type": "code",
     "collapsed": false,
     "input": [
      "nonlin_nmi_diff_array=np.array([])\n",
      "nonlin_cr_diff_array=np.array([])\n",
      "fmap_nmi_diff_array=np.array([]),\n",
      "fmap_cr_diff_array=np.array([])\n",
      "topup_nmi_diff_array=np.array([])\n",
      "topup_cr_diff_array=np.array([])\n",
      "\n",
      "\n",
      "lin_nmi_array= np.empty(shape=(1,2))\n",
      "lin_cr_array=np.empty(shape=(1,2))\n",
      "nonlin_nmi_array= np.empty(shape=(1,2))\n",
      "nonlin_cr_array=np.empty(shape=(1,2))\n",
      "fmap_nmi_array= np.empty(shape=(1,2))\n",
      "fmap_cr_array=np.empty(shape=(1,2))\n",
      "topup_nmi_array= np.empty(shape=(1,2))\n",
      "topup_cr_array=np.empty(shape=(1,2))\n",
      "\n",
      "lin_nmi_min=[1,'none']\n",
      "lin_cr_min=[1,'none']\n",
      "\n",
      "topup_nmi_min=[1,'none']\n",
      "topup_cr_min=[1,'none']\n",
      "\n",
      "\n",
      "max_nonlin_nmi_diff=[-1,'none']\n",
      "min_nonlin_nmi_diff=[1, 'none']\n",
      "\n",
      "max_nonlin_cr_diff=[-1,'none']\n",
      "min_nonlin_cr_diff=[1, 'none']\n",
      "\n",
      "for subject in range(len(subjects)):\n",
      "    path = '/scr/jessica2/Schaare/LEMON/preprocessed/%s/similarity/mni_metrics.txt' %(subjects[subject])\n",
      "    metrics_array=np.loadtxt(path, dtype='float', delimiter=' ')\n",
      "    \n",
      "    lin_nmi=metrics_array[1,0]\n",
      "    lin_cr=metrics_array[3,0]\n",
      "    \n",
      "    if lin_nmi < lin_nmi_min[0]:\n",
      "        lin_nmi_min=[lin_nmi,subjects[subject]]\n",
      "    \n",
      "    if lin_nmi < 0.0001:\n",
      "        print subjects[subject]\n",
      "        \n",
      "    if lin_cr < lin_cr_min[0]:\n",
      "        lin_cr_min=[lin_cr,subjects[subject]]\n",
      "    \n",
      "    nonlin_nmi_difference=metrics_array[1,1]-metrics_array[1,0]\n",
      "    nonlin_nmi=metrics_array[1,1]\n",
      "    \n",
      "    nonlin_cr_difference =metrics_array[3,1]-metrics_array[3,0]\n",
      "    nonlin_cr =metrics_array[3,1]\n",
      "    \n",
      "    if nonlin_nmi_difference > max_nonlin_nmi_diff[0]:\n",
      "        max_nonlin_nmi_diff=[nonlin_nmi_difference,subjects[subject]]\n",
      "    \n",
      "    if nonlin_nmi_difference < min_nonlin_nmi_diff[0]:\n",
      "        min_nonlin_nmi_diff=[nonlin_nmi_difference,subjects[subject]]\n",
      "        \n",
      "    if nonlin_cr_difference > max_nonlin_cr_diff[0]:\n",
      "        max_nonlin_cr_diff=[nonlin_cr_difference,subjects[subject]]\n",
      "    \n",
      "    if nonlin_cr_difference < min_nonlin_cr_diff[0]:\n",
      "        min_nonlin_cr_diff=[nonlin_cr_difference,subjects[subject]]\n",
      "    \n",
      "    \n",
      "    fmap_nmi_difference=metrics_array[1,2]-metrics_array[1,0]\n",
      "    fmap_nmi=metrics_array[1,2]\n",
      "    \n",
      "    fmap_cr_difference =metrics_array[3,2]-metrics_array[3,0]\n",
      "    fmap_cr =metrics_array[3,2]\n",
      "    \n",
      "    topup_nmi_difference=metrics_array[1,3]-metrics_array[1,0]\n",
      "    topup_nmi=metrics_array[1,3]\n",
      "    \n",
      "    topup_cr_difference =metrics_array[3,3]-metrics_array[3,0]\n",
      "    topup_cr=metrics_array[3,3]\n",
      "    \n",
      "    if topup_nmi < topup_nmi_min[0]:\n",
      "        topup_nmi_min=[topup_nmi,subjects[subject]]\n",
      "        \n",
      "    if topup_cr < topup_cr_min[0]:\n",
      "        topup_cr_min=[topup_cr,subjects[subject]]\n",
      "    \n",
      "    lin_nmi_array = np.append(lin_nmi_array,lin_nmi)\n",
      "    lin_cr_array = np.append(lin_cr_array,lin_cr)\n",
      "    \n",
      "    nonlin_nmi_diff_array = np.append(nonlin_nmi_diff_array,nonlin_nmi_difference)\n",
      "    nonlin_nmi_array = np.append(nonlin_nmi_array,nonlin_nmi)\n",
      "    \n",
      "    nonlin_cr_diff_array = np.append(nonlin_cr_diff_array,nonlin_cr_difference)\n",
      "    nonlin_cr_array = np.append(nonlin_cr_array,nonlin_cr)\n",
      "    \n",
      "    fmap_nmi_diff_array = np.append(fmap_nmi_diff_array,fmap_nmi_difference)\n",
      "    fmap_nmi_array = np.append(fmap_nmi_array,fmap_nmi)\n",
      "    \n",
      "    fmap_cr_diff_array = np.append(fmap_cr_diff_array,fmap_cr_difference)\n",
      "    fmap_cr_array = np.append(fmap_cr_array,fmap_cr)\n",
      "    \n",
      "    topup_nmi_diff_array = np.append(topup_nmi_diff_array,topup_nmi_difference)\n",
      "    topup_nmi_array = np.append(topup_nmi_array,topup_nmi)\n",
      "    \n",
      "    topup_cr_diff_array = np.append(topup_cr_diff_array,topup_cr_difference)\n",
      "    topup_cr_array = np.append(topup_cr_array,topup_cr)\n",
      "\n",
      "    \n",
      "    #nonlin_nmi = metrics_array[1,:]\n",
      "    #cr = metrics_array[3,:]\n",
      "    #nmi_array = np.concatenate((nmi_array,nmi.reshape(1,np.size(nmi))),axis=0)\n",
      "    #cr_array = np.concatenate((cr_array,cr.reshape(1,np.size(cr))),axis=0)\n",
      "    \n",
      "lin_nmi_array=lin_nmi_array[2:]\n",
      "lin_cr_array=lin_cr_array[2:]\n",
      "nonlin_nmi_array=nonlin_nmi_array[2:]\n",
      "nonlin_cr_array=nonlin_cr_array[2:]\n",
      "fmap_nmi_array=fmap_nmi_array[2:]\n",
      "fmap_cr_array=fmap_cr_array[2:]\n",
      "topup_nmi_array=topup_nmi_array[2:]\n",
      "topup_cr_array=topup_cr_array[2:]"
     ],
     "language": "python",
     "metadata": {},
     "outputs": [],
     "prompt_number": 116
    },
    {
     "cell_type": "code",
     "collapsed": false,
     "input": [
      "print lin_nmi_min\n",
      "print lin_cr_min"
     ],
     "language": "python",
     "metadata": {},
     "outputs": [
      {
       "output_type": "stream",
       "stream": "stdout",
       "text": [
        "[0.032749, 'LEMON038']\n",
        "[0.0095259999999999997, 'LEMON042']\n"
       ]
      }
     ],
     "prompt_number": 117
    },
    {
     "cell_type": "code",
     "collapsed": false,
     "input": [
      "print 'max nmi improvement through nonlinear: '+str(max_nonlin_nmi_diff[0])+' '+max_nonlin_nmi_diff[1]\n",
      "print 'max nmi deterioration through nonlinear: '+str(min_nonlin_nmi_diff[0])+' '+min_nonlin_nmi_diff[1]\n",
      "\n",
      "print 'max cr improvement through nonlinear: '+str(max_nonlin_cr_diff[0])+' '+max_nonlin_cr_diff[1]\n",
      "print 'max cr deterioration through nonlinear: '+str(min_nonlin_cr_diff[0])+' '+min_nonlin_cr_diff[1]"
     ],
     "language": "python",
     "metadata": {},
     "outputs": [
      {
       "output_type": "stream",
       "stream": "stdout",
       "text": [
        "max nmi improvement through nonlinear: 0.000804 LEMON006\n",
        "max nmi deterioration through nonlinear: -0.001498 LEMON083\n",
        "max cr improvement through nonlinear: 0.025646 LEMON058\n",
        "max cr deterioration through nonlinear: -0.00193 LEMON084\n"
       ]
      }
     ],
     "prompt_number": 118
    },
    {
     "cell_type": "code",
     "collapsed": false,
     "input": [
      "from scipy import stats as st\n",
      "nonlin_nmi_test=st.ttest_1samp(nonlin_nmi_diff_array, 0)\n",
      "nonlin_cr_test=st.ttest_1samp(nonlin_cr_diff_array, 0)\n",
      "\n",
      "fmap_nmi_test=st.ttest_1samp(fmap_nmi_diff_array, 0)\n",
      "fmap_cr_test=st.ttest_1samp(fmap_cr_diff_array, 0)\n",
      "\n",
      "topup_nmi_test=st.ttest_1samp(topup_nmi_diff_array, 0)\n",
      "topup_cr_test=st.ttest_1samp(topup_cr_diff_array, 0)\n",
      "\n",
      "print 'nonlin improvement nmi t/p: '+str(nonlin_nmi_test[0])+' '+str(nonlin_nmi_test[1])\n",
      "print 'nonlin improvement cr t/p: '+str(nonlin_cr_test[0])+' '+str(nonlin_cr_test[1])\n",
      "\n",
      "print 'fmap improvement nmi t/p: '+str(fmap_nmi_test[0])+' '+str(fmap_nmi_test[1])\n",
      "print 'fmap improvement cr t/p: '+str(fmap_cr_test[0])+' '+str(fmap_cr_test[1])\n",
      "\n",
      "print 'topup improvement nmi t/p: '+str(topup_nmi_test[0])+' '+str(topup_nmi_test[1])\n",
      "print 'topup improvement cr t/p: '+str(topup_cr_test[0])+' '+str(topup_cr_test[1])"
     ],
     "language": "python",
     "metadata": {},
     "outputs": [
      {
       "output_type": "stream",
       "stream": "stdout",
       "text": [
        "nonlin improvement nmi t/p: -6.02929399615 8.62225249264e-08\n",
        "nonlin improvement cr t/p: 21.6553871331 1.98092288032e-31\n",
        "fmap improvement nmi t/p: 6.48633864918 1.38765909707e-08\n",
        "fmap improvement cr t/p: -2.41147014972 0.0187226826397\n",
        "topup improvement nmi t/p: 7.39924431582 3.40596025629e-10\n",
        "topup improvement cr t/p: -0.51573704708 0.607787934619\n"
       ]
      }
     ],
     "prompt_number": 126
    },
    {
     "cell_type": "code",
     "collapsed": false,
     "input": [
      "hist(nonlin_nmi_diff_array), hist(fmap_nmi_diff_array), hist(topup_nmi_diff_array)"
     ],
     "language": "python",
     "metadata": {},
     "outputs": [
      {
       "metadata": {},
       "output_type": "pyout",
       "prompt_number": 130,
       "text": [
        "((array([ 7,  3,  7, 13,  5,  9,  7, 10,  3,  2]),\n",
        "  array([-0.001498 , -0.0012678, -0.0010376, -0.0008074, -0.0005772,\n",
        "       -0.000347 , -0.0001168,  0.0001134,  0.0003436,  0.0005738,\n",
        "        0.000804 ]),\n",
        "  <a list of 10 Patch objects>),\n",
        " (array([ 3,  3,  5,  7, 12, 12, 10,  5,  4,  5]),\n",
        "  array([-0.001084, -0.000765, -0.000446, -0.000127,  0.000192,  0.000511,\n",
        "        0.00083 ,  0.001149,  0.001468,  0.001787,  0.002106]),\n",
        "  <a list of 10 Patch objects>),\n",
        " (array([ 3,  2,  4,  8,  8, 21,  8,  6,  3,  3]),\n",
        "  array([-0.001199 , -0.0008346, -0.0004702, -0.0001058,  0.0002586,\n",
        "        0.000623 ,  0.0009874,  0.0013518,  0.0017162,  0.0020806,\n",
        "        0.002445 ]),\n",
        "  <a list of 10 Patch objects>))"
       ]
      },
      {
       "metadata": {},
       "output_type": "display_data",
       "png": "[encoded data removed]",
       "text": [
        "<matplotlib.figure.Figure at 0x857aa10>"
       ]
      }
     ],
     "prompt_number": 130
    },
    {
     "cell_type": "code",
     "collapsed": false,
     "input": [
      "hist(nonlin_cr_diff_array), hist(fmap_cr_diff_array), hist(topup_cr_diff_array)"
     ],
     "language": "python",
     "metadata": {},
     "outputs": [
      {
       "metadata": {},
       "output_type": "pyout",
       "prompt_number": 129,
       "text": [
        "((array([ 2,  1,  2,  4,  9, 15, 12, 13,  5,  3]),\n",
        "  array([-0.00193  ,  0.0008276,  0.0035852,  0.0063428,  0.0091004,\n",
        "        0.011858 ,  0.0146156,  0.0173732,  0.0201308,  0.0228884,\n",
        "        0.025646 ]),\n",
        "  <a list of 10 Patch objects>),\n",
        " (array([ 4,  3,  2,  3,  8, 14, 14, 11,  3,  4]),\n",
        "  array([-0.013644, -0.011476, -0.009308, -0.00714 , -0.004972, -0.002804,\n",
        "       -0.000636,  0.001532,  0.0037  ,  0.005868,  0.008036]),\n",
        "  <a list of 10 Patch objects>),\n",
        " (array([ 3,  1,  6,  3, 13, 17, 14,  3,  3,  3]),\n",
        "  array([-0.011981 , -0.0097795, -0.007578 , -0.0053765, -0.003175 ,\n",
        "       -0.0009735,  0.001228 ,  0.0034295,  0.005631 ,  0.0078325,\n",
        "        0.010034 ]),\n",
        "  <a list of 10 Patch objects>))"
       ]
      },
      {
       "metadata": {},
       "output_type": "display_data",
       "png": "[encoded data removed]",
       "text": [
        "<matplotlib.figure.Figure at 0x833b390>"
       ]
      }
     ],
     "prompt_number": 129
    },
    {
     "cell_type": "code",
     "collapsed": false,
     "input": [
      "scatter(nonlin_cr_array,fmap_cr_array)"
     ],
     "language": "python",
     "metadata": {},
     "outputs": [
      {
       "metadata": {},
       "output_type": "pyout",
       "prompt_number": 128,
       "text": [
        "<matplotlib.collections.PathCollection at 0x7982110>"
       ]
      },
      {
       "metadata": {},
       "output_type": "display_data",
       "png": "[encoded data removed]",
       "text": [
        "<matplotlib.figure.Figure at 0x79854d0>"
       ]
      }
     ],
     "prompt_number": 128
    },
    {
     "cell_type": "markdown",
     "metadata": {},
     "source": [
      "x=np.array([[1],[2]])\n",
      "for i in range(221):\n",
      "    x = np.concatenate((x,np.array([[1],[2]])),axis=1)\n",
      "\n",
      "y = np.transpose(mask_array)\n",
      "\n",
      "fig = figure(figsize=(5, 3))\n",
      "plot(x,y, '.-', color='g', alpha=0.3)\n",
      "    #axis('off')\n",
      "    \n",
      "ylabel('mask_size')\n",
      "xlabel('type of transformation')\n",
      "xlim(0.8,2.2)\n",
      "xticks([0.5,2.5])\n",
      "ylim(700000,2000000)\n"
     ]
    },
    {
     "cell_type": "code",
     "collapsed": false,
     "input": [],
     "language": "python",
     "metadata": {},
     "outputs": []
    }
   ],
   "metadata": {}
  }
 ]
}